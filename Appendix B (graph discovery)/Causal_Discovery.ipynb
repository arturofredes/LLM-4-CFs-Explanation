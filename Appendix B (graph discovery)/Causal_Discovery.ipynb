{
 "cells": [
  {
   "cell_type": "markdown",
   "metadata": {},
   "source": [
    "# \"Adult\" dataset\n",
    "Predict whether income exceeds $50K/yr based on census data. Also known as \"Census Income\" dataset.\n",
    "https://archive.ics.uci.edu/dataset/2/adult"
   ]
  },
  {
   "cell_type": "code",
   "execution_count": 1,
   "metadata": {},
   "outputs": [
    {
     "data": {
      "text/html": [
       "<div>\n",
       "<style scoped>\n",
       "    .dataframe tbody tr th:only-of-type {\n",
       "        vertical-align: middle;\n",
       "    }\n",
       "\n",
       "    .dataframe tbody tr th {\n",
       "        vertical-align: top;\n",
       "    }\n",
       "\n",
       "    .dataframe thead th {\n",
       "        text-align: right;\n",
       "    }\n",
       "</style>\n",
       "<table border=\"1\" class=\"dataframe\">\n",
       "  <thead>\n",
       "    <tr style=\"text-align: right;\">\n",
       "      <th></th>\n",
       "      <th>age</th>\n",
       "      <th>workclass</th>\n",
       "      <th>education</th>\n",
       "      <th>marital_status</th>\n",
       "      <th>occupation</th>\n",
       "      <th>race</th>\n",
       "      <th>gender</th>\n",
       "      <th>hours_per_week</th>\n",
       "      <th>income</th>\n",
       "    </tr>\n",
       "  </thead>\n",
       "  <tbody>\n",
       "    <tr>\n",
       "      <th>0</th>\n",
       "      <td>28</td>\n",
       "      <td>Private</td>\n",
       "      <td>Bachelors</td>\n",
       "      <td>Single</td>\n",
       "      <td>White-Collar</td>\n",
       "      <td>White</td>\n",
       "      <td>Female</td>\n",
       "      <td>60</td>\n",
       "      <td>0</td>\n",
       "    </tr>\n",
       "    <tr>\n",
       "      <th>1</th>\n",
       "      <td>30</td>\n",
       "      <td>Self-Employed</td>\n",
       "      <td>Assoc</td>\n",
       "      <td>Married</td>\n",
       "      <td>Professional</td>\n",
       "      <td>White</td>\n",
       "      <td>Male</td>\n",
       "      <td>65</td>\n",
       "      <td>1</td>\n",
       "    </tr>\n",
       "    <tr>\n",
       "      <th>2</th>\n",
       "      <td>32</td>\n",
       "      <td>Private</td>\n",
       "      <td>Some-college</td>\n",
       "      <td>Married</td>\n",
       "      <td>White-Collar</td>\n",
       "      <td>White</td>\n",
       "      <td>Male</td>\n",
       "      <td>50</td>\n",
       "      <td>0</td>\n",
       "    </tr>\n",
       "    <tr>\n",
       "      <th>3</th>\n",
       "      <td>20</td>\n",
       "      <td>Private</td>\n",
       "      <td>Some-college</td>\n",
       "      <td>Single</td>\n",
       "      <td>Service</td>\n",
       "      <td>White</td>\n",
       "      <td>Female</td>\n",
       "      <td>35</td>\n",
       "      <td>0</td>\n",
       "    </tr>\n",
       "    <tr>\n",
       "      <th>4</th>\n",
       "      <td>41</td>\n",
       "      <td>Self-Employed</td>\n",
       "      <td>Some-college</td>\n",
       "      <td>Married</td>\n",
       "      <td>White-Collar</td>\n",
       "      <td>White</td>\n",
       "      <td>Male</td>\n",
       "      <td>50</td>\n",
       "      <td>0</td>\n",
       "    </tr>\n",
       "  </tbody>\n",
       "</table>\n",
       "</div>"
      ],
      "text/plain": [
       "   age      workclass     education marital_status    occupation   race  \\\n",
       "0   28        Private     Bachelors         Single  White-Collar  White   \n",
       "1   30  Self-Employed         Assoc        Married  Professional  White   \n",
       "2   32        Private  Some-college        Married  White-Collar  White   \n",
       "3   20        Private  Some-college         Single       Service  White   \n",
       "4   41  Self-Employed  Some-college        Married  White-Collar  White   \n",
       "\n",
       "   gender  hours_per_week  income  \n",
       "0  Female              60       0  \n",
       "1    Male              65       1  \n",
       "2    Male              50       0  \n",
       "3  Female              35       0  \n",
       "4    Male              50       0  "
      ]
     },
     "execution_count": 1,
     "metadata": {},
     "output_type": "execute_result"
    }
   ],
   "source": [
    "import dice_ml\n",
    "from dice_ml.utils import helpers\n",
    "import pandas as pd\n",
    "dataset = helpers.load_adult_income_dataset()\n",
    "dataset.head()"
   ]
  },
  {
   "cell_type": "code",
   "execution_count": 2,
   "metadata": {},
   "outputs": [
    {
     "data": {
      "text/plain": [
       "{'age': 'age',\n",
       " 'workclass': 'type of industry (Government, Other/Unknown, Private, Self-Employed)',\n",
       " 'education': 'education level (Assoc, Bachelors, Doctorate, HS-grad, Masters, Prof-school, School, Some-college)',\n",
       " 'marital_status': 'marital status (Divorced, Married, Separated, Single, Widowed)',\n",
       " 'occupation': 'occupation (Blue-Collar, Other/Unknown, Professional, Sales, Service, White-Collar)',\n",
       " 'race': 'white or other race?',\n",
       " 'gender': 'male or female?',\n",
       " 'hours_per_week': 'total work hours per week',\n",
       " 'income': '0 (<=50K) vs 1 (>50K)'}"
      ]
     },
     "execution_count": 2,
     "metadata": {},
     "output_type": "execute_result"
    }
   ],
   "source": [
    "# description of transformed features\n",
    "adult_info = helpers.get_adult_data_info()\n",
    "adult_info"
   ]
  },
  {
   "cell_type": "markdown",
   "metadata": {},
   "source": [
    "# Utils"
   ]
  },
  {
   "cell_type": "markdown",
   "metadata": {},
   "source": [
    "## Creating a prompt collection for different purposes"
   ]
  },
  {
   "cell_type": "markdown",
   "metadata": {},
   "source": [
    "### Discovery of Causal relationships"
   ]
  },
  {
   "cell_type": "code",
   "execution_count": 3,
   "metadata": {},
   "outputs": [],
   "source": [
    "from langchain.prompts import PromptTemplate\n",
    "from langchain.chains import LLMChain\n",
    "from langchain_community.chat_models import ChatOpenAI\n",
    "\n",
    "llm = ChatOpenAI(model_name=\"gpt-4\")\n",
    "template= \"\"\"\n",
    "First, lets define some variables:\n",
    "X: {A}\n",
    "Y:{B}\n",
    "Which cause-and-effect relationship is more likely?\n",
    "1. changing X causes a change in Y.\n",
    "-1. changing Y causes a change in X.\n",
    "0.there is no direct causal relationship between X and Y.\n",
    "Let’s work this out in a step by step way to be sure that we have the right answer. Then provide your final within the tags <Answer>1/-1/0</Answer>.\n",
    "\"\"\"\n",
    "\n",
    "\n",
    "\n",
    "prompt = PromptTemplate(\n",
    "    input_variables=[\"A\", \"B\"],\n",
    "    template=template,\n",
    ")\n",
    "\n",
    "reasoning_chain = LLMChain(llm=llm, prompt=prompt)"
   ]
  },
  {
   "cell_type": "code",
   "execution_count": 4,
   "metadata": {},
   "outputs": [],
   "source": [
    "import re\n",
    "def extract_answer(text):\n",
    "    # Regular expression pattern to find text between <Answer> and </Answer>\n",
    "    pattern = \"<Answer>(.+)</Answer>\"\n",
    "    \n",
    "    # Use re.findall to find all occurrences that match the pattern\n",
    "    matches = re.findall(pattern, text)\n",
    "    \n",
    "    return matches[0]\n",
    "\n",
    "def extract_reasoning(text):\n",
    "    # Split the string into a list of lines\n",
    "    lines = text.split('\\n')\n",
    "    #delete the last line\n",
    "    lines = lines[:-1]\n",
    "    # Join the list back into a string\n",
    "    return '\\n'.join(lines)\n",
    "\n"
   ]
  },
  {
   "cell_type": "code",
   "execution_count": 5,
   "metadata": {},
   "outputs": [],
   "source": [
    "from langchain.prompts import PromptTemplate\n",
    "from langchain.chains import LLMChain\n",
    "from langchain_community.chat_models import ChatOpenAI\n",
    "\n",
    "def discover_relationship(event1, event2):\n",
    "    llm = ChatOpenAI(model_name=\"gpt-4\")\n",
    "    template= \"\"\"\n",
    "    First, lets define some variables:\n",
    "    X: {A}\n",
    "    Y:{B}\n",
    "    Which cause-and-effect relationship is more likely?\n",
    "    1. changing X causes a change in Y.\n",
    "    -1. changing Y causes a change in X.\n",
    "    0.there is no direct causal relationship between X and Y.\n",
    "    Let’s work this out in a step by step way to be sure that we have the right answer. Then provide your final within the tags <Answer>1/-1/0</Answer>.\n",
    "    \"\"\"\n",
    "\n",
    "\n",
    "\n",
    "    prompt = PromptTemplate(\n",
    "        input_variables=[\"A\", \"B\"],\n",
    "        template=template,\n",
    "    )\n",
    "\n",
    "    reasoning_chain = LLMChain(llm=llm, prompt=prompt)\n",
    "\n",
    "    response = reasoning_chain.run({\n",
    "    'A': event1,\n",
    "    'B': event2\n",
    "    })\n",
    "    return int(extract_answer(response)), extract_reasoning(response)"
   ]
  },
  {
   "cell_type": "markdown",
   "metadata": {},
   "source": [
    "### Validation of reasoning consistency"
   ]
  },
  {
   "cell_type": "code",
   "execution_count": 6,
   "metadata": {},
   "outputs": [],
   "source": [
    "from langchain.prompts import PromptTemplate\n",
    "from langchain.chains import LLMChain\n",
    "from langchain_community.chat_models import ChatOpenAI\n",
    "\n",
    "def check_relationship_consistency(event1, event2,llm_reasoning, llm_direction):\n",
    "    llm = ChatOpenAI(model_name=\"gpt-4\")\n",
    "    #First we need to recovewr the original question and response\n",
    "    template= \"\"\"\n",
    "    First, lets define some variables:\n",
    "    X: {A}\n",
    "    Y:{B}\n",
    "    Which cause-and-effect relationship is more likely?\n",
    "    1. changing X causes a change in Y.\n",
    "    -1. changing Y causes a change in X.\n",
    "    0.there is no direct causal relationship between X and Y.\n",
    "    Let’s work this out in a step by step way to be sure that we have the right answer. Then provide your final within the tags <Answer>1/-1/0</Answer>.\n",
    "    \"\"\"\n",
    "    question = template.format(A=event1, B=event2)\n",
    "\n",
    "    previous_answer = llm_reasoning + '\\n<Answer>' + str(llm_direction) + '<\\Answer>'\n",
    "    template2 = \"\"\"Analyze the output from an AI assistant. Is the final answer consistent with the reasoning provided by the assistant? Give a final answer after reasoning this issue.\n",
    "    Question:\n",
    "    {question}\n",
    "    AI assistant: {previous_answer}\n",
    "    Explain your decision and then provide your final within the tags \n",
    "    <Answer>1/0/-1</Answer>.\"\"\"\n",
    "\n",
    "    prompt2 = PromptTemplate(\n",
    "        input_variables=[\"question\", \"previous_answer\"],\n",
    "        template=template2,\n",
    "    )\n",
    "\n",
    "    autoconsistency_chain = LLMChain(llm=llm, prompt=prompt2)\n",
    "    \n",
    "    response = autoconsistency_chain.run({\n",
    "    \"question\": question,\n",
    "    \"previous_answer\": previous_answer\n",
    "    })\n",
    "    \n",
    "    return int(extract_answer(response)), extract_reasoning(response)\n"
   ]
  },
  {
   "cell_type": "markdown",
   "metadata": {},
   "source": [
    "### Mediators thought experiment"
   ]
  },
  {
   "cell_type": "code",
   "execution_count": 7,
   "metadata": {},
   "outputs": [],
   "source": [
    "llm = ChatOpenAI(model_name=\"gpt-4\")\n",
    "template3 = \"\"\"\n",
    "A: {A}\n",
    "B: {B}\n",
    "MEDIATORS:\n",
    "{MEDIATORS}\n",
    "\n",
    "Given that there exists a causal relationship from A to B, and acknowledging that there are also causal pathways from A to MEDIATORS, and from these variables (MEDIATORS) to B, we aim to discern whether the causal influence of A on B is direct or mediated through these other variables.\n",
    "\n",
    "Causal Framework Establishment: We start by affirming the existence of a causal relationship from A to B, acknowledging that A also influences intermediary variables, which in turn have their own effects on B.\n",
    "\n",
    "Hypothesis of Direct vs. Indirect Causation: The core question is whether A's impact on B is direct, not merely transmitted through its effects on MEDIATORS. In other words, does A influence B independently of the pathways through MEDIATORS?\n",
    "\n",
    "Intervention Thought Experiment:\n",
    "\n",
    "Control for Mediators: Imagine we can control or \"fix\" the values of MEDIATORS, such that any change in these variables does not affect B. This setup mimics a scenario where the only pathway from A to B that can manifest is the direct one, if it exists.\n",
    "Observation after Intervention: After fixing MEDIATORS, we then assess the effect of a change in A on B. If altering A still changes B even when MEDIATORS, are held constant, this indicates a direct causal relationship between A and B. Conversely, if changes in A no longer influence B once we control for MEDIATORS, the causal path from A to B is likely indirect, fully mediated by these variables.\n",
    "Conclusion Drawing: Based on the observations from the intervention thought experiment, we can conclude whether the causal path from A to B is direct 1 (A directly influences B, independent of other variables) or indirect -1 (A's influence on B is mediated through MEDIATORS). \n",
    "\n",
    "Reason step by step andat the end answer 1 (direct), -1 (indirect) or 0 (not sure).\n",
    "\n",
    "Reasoning:\n",
    "\n",
    "Answer: <Answer>1/0</Answer>\"\"\"\n",
    "\n",
    "\n",
    "\n",
    "\n",
    "prompt3 = PromptTemplate(\n",
    "    input_variables=[\"A\", \"B\",\"MEDIATORS\"],\n",
    "    template=template3,\n",
    ")\n",
    "\n",
    "direct_chain = LLMChain(llm=llm, prompt=prompt3)\n"
   ]
  },
  {
   "cell_type": "code",
   "execution_count": 8,
   "metadata": {},
   "outputs": [
    {
     "name": "stdout",
     "output_type": "stream",
     "text": [
      "In order to determine if the causal relationship from income (A) to age (B) is direct or indirect, we need to assess the potential mediating effects of marital status, occupation, and hours worked per week.\n",
      "\n",
      "1. Income can influence marital status – people with higher incomes may be more likely to get married or remain married. Marital status can also influence age, as individuals tend to get married at a certain age and can potentially live longer due to the benefits of companionship.\n",
      "\n",
      "2. Income can influence occupation – individuals with higher incomes are more likely to have professional or white-collar jobs. Occupation can also influence age as certain jobs might have age restrictions or certain jobs might be more prevalent among different age groups.\n",
      "\n",
      "3. Income can influence hours worked per week – individuals with higher incomes may work more hours per week. The number of hours worked per week can also influence age because certain age groups might have more or less available time to work due to other obligations (like school or retirement).\n",
      "\n",
      "If we control for these mediators (marital status, occupation, and hours worked per week), and observe a change in A (income) still results in a change in B (age), then there is a direct causal relationship from A to B. If, however, controlling for these mediators results in no change in B when A is changed, then it indicates an indirect causal relationship.\n",
      "\n",
      "Given the complexity of these relationships and without empirical data to support either claim, it is not possible to definitively state whether the relationship is direct or indirect.\n",
      "\n",
      "Answer: <Answer>0</Answer>\n"
     ]
    }
   ],
   "source": [
    "A = 'income'\n",
    "\n",
    "\n",
    "mediators = \"\"\"\n",
    " 'marital_status': 'marital status (Divorced, Married, Separated, Single, Widowed)',\n",
    " 'occupation': 'occupation (Blue-Collar, Other/Unknown, Professional, Sales, Service, White-Collar)',\n",
    " 'hours_per_week': 'total work hours per week'\n",
    " \"\"\"\n",
    "\n",
    "B = 'age'\n",
    "\n",
    "\n",
    "response = direct_chain.run({\n",
    "\"A\": A,\n",
    "\"B\": B,\n",
    "\"MEDIATORS\":mediators\n",
    "})\n",
    "\n",
    "print(response)"
   ]
  },
  {
   "cell_type": "code",
   "execution_count": 9,
   "metadata": {},
   "outputs": [
    {
     "name": "stdout",
     "output_type": "stream",
     "text": [
      "Given the described scenario, it's hard to conclude definitively without empirical data. However, we can hypothesize possible outcomes based on general knowledge.\n",
      "\n",
      "Workclass (A) could directly influence income (B) because typically different industries have different pay scales. For example, a job in the private sector might generally pay more than a job in the government sector. This would suggest a direct causal relationship.\n",
      "\n",
      "On the other hand, the type of work (workclass) could influence one's occupation and hours per week (MEDIATORS), which in turn could affect income. For instance, certain industries might have more opportunities for high-paying occupations or may require more working hours per week, leading to higher income. In this case, the causal path would be indirect.\n",
      "\n",
      "Given these potential scenarios, it's plausible that the causal relationship could be either direct or indirect. However, without specific data or more information, it is impossible to declare with certainty whether the actual causal path is direct, indirect, or a combination of both.\n",
      "\n",
      "Answer: 0 (not sure)\n"
     ]
    }
   ],
   "source": [
    "A = \"\"\" 'workclass': 'type of industry (Government, Other/Unknown, Private, Self-Employed)'\"\"\"\n",
    "\n",
    "mediators = \"\"\"\n",
    " 'occupation': 'occupation (Blue-Collar, Other/Unknown, Professional, Sales, Service, White-Collar)',\n",
    " 'hours_per_week': 'total work hours per week'\n",
    " \"\"\"\n",
    "\n",
    "B = 'income'\n",
    "\n",
    "\n",
    "response = direct_chain.run({\n",
    "\"A\": A,\n",
    "\"B\": B,\n",
    "\"MEDIATORS\":mediators\n",
    "})\n",
    "\n",
    "print(response)"
   ]
  },
  {
   "cell_type": "markdown",
   "metadata": {},
   "source": [
    "## Creating classes"
   ]
  },
  {
   "cell_type": "code",
   "execution_count": 10,
   "metadata": {},
   "outputs": [],
   "source": [
    "class Event:\n",
    "    \"\"\"Represents an event with a name and a description.\"\"\"\n",
    "    def __init__(self, event_name: str, event_description: str) -> None:\n",
    "        self.event_name = event_name\n",
    "        self.event_description = event_description\n",
    "\n",
    "    def __str__(self) -> str:\n",
    "        return f\"{self.event_name}: {self.event_description}\"\n",
    "\n",
    "    def to_dict(self):\n",
    "        return {\"event_name\": self.event_name, \"event_description\": self.event_description}\n",
    "\n",
    "    @classmethod\n",
    "    def from_dict(cls, data):\n",
    "        return cls(data[\"event_name\"], data[\"event_description\"])"
   ]
  },
  {
   "cell_type": "code",
   "execution_count": 11,
   "metadata": {},
   "outputs": [],
   "source": [
    "class CausalRelation:\n",
    "    def __init__(self, event1: Event, event2: Event):\n",
    "        self.event1 = event1\n",
    "        self.event2 = event2\n",
    "        self.direction = None  \n",
    "        self.reasoning = \"\"\n",
    "        self.consistency_check = None\n",
    "        self.consistency_reasoning = \"\"\n",
    "\n",
    "    def discover(self) -> (str, int):\n",
    "        try:\n",
    "            # Assuming discover_relationship expects string representations\n",
    "            self.direction, self.reasoning = discover_relationship(str(self.event1), str(self.event2))\n",
    "        except Exception as e:\n",
    "            self.reasoning = f\"Error discovering relationship: {e}\"\n",
    "            self.direction = None\n",
    "        return self.reasoning, self.direction\n",
    "\n",
    "    def check_consistency(self) -> (str, bool):\n",
    "        if self.direction is not None:\n",
    "            try:\n",
    "                # Assuming check_relationship_consistency is adjusted to handle Event objects or their string representations\n",
    "                self.consistency_check, self.consistency_reasoning = check_relationship_consistency(str(self.event1), str(self.event2), self.reasoning, self.direction)\n",
    "            except Exception as e:\n",
    "                self.consistency_reasoning = f\"Error checking consistency: {e}\"\n",
    "                self.consistency_check = None\n",
    "        else:\n",
    "            self.consistency_reasoning = \"Discovery must be performed before checking consistency.\"\n",
    "            self.consistency_check = None\n",
    "        return self.consistency_reasoning, self.consistency_check\n",
    "    \n",
    "    def to_dict(self):\n",
    "        return {\n",
    "            \"event1\": self.event1.event_name,\n",
    "            \"event2\": self.event2.event_name,\n",
    "            \"direction\": self.direction,\n",
    "            \"reasoning\": self.reasoning,\n",
    "            \"consistency_check\": self.consistency_check,\n",
    "            \"consistency_reasoning\": self.consistency_reasoning,\n",
    "        }\n",
    "\n",
    "    @staticmethod\n",
    "    def from_dict(data, events):\n",
    "        event1 = events[data[\"event1\"]]\n",
    "        event2 = events[data[\"event2\"]]\n",
    "        relation = CausalRelation(event1, event2)\n",
    "        relation.direction = data[\"direction\"]\n",
    "        relation.reasoning = data[\"reasoning\"]\n",
    "        relation.consistency_check = data.get(\"consistency_check\")\n",
    "        relation.consistency_reasoning = data.get(\"consistency_reasoning\")\n",
    "        return relation\n"
   ]
  },
  {
   "cell_type": "code",
   "execution_count": 15,
   "metadata": {},
   "outputs": [],
   "source": [
    "import json\n",
    "from graphviz import Digraph\n",
    "class CausalGraph:\n",
    "    def __init__(self):\n",
    "        self.events = {}  # Key: event name, Value: Event object\n",
    "        self.relations = []  # List of CausalRelation objects\n",
    "    def add_events(self, events: [Event]):\n",
    "        \"\"\"Add a list of events to the graph.\"\"\"\n",
    "        for event in events:\n",
    "            if event.event_name in self.events:\n",
    "                print(f\"Warning: Event named '{event.event_name}' already exists. Skipping.\")\n",
    "            else:\n",
    "                self.events[event.event_name] = event\n",
    "\n",
    "    def discover_graph(self, check_consistency = False):\n",
    "        \"\"\"Automatically discover and add all possible causal relationships between events in the graph.\"\"\"\n",
    "        event_names = list(self.events.keys())\n",
    "        for i, event_name1 in enumerate(event_names):\n",
    "            for event_name2 in event_names[i + 1:]:\n",
    "                #we create a CausalRelation class and discover if there are or not direct causal relations between the variables\n",
    "                relation = CausalRelation(self.events[event_name1], self.events[event_name2])\n",
    "                relation.discover()\n",
    "                if check_consistency:\n",
    "                    relation.check_consistency()\n",
    "                self.relations.append(relation)\n",
    "\n",
    "    def consistency(self):\n",
    "        for relation in self.relations:\n",
    "            relation.check_consistency()\n",
    "            \n",
    "\n",
    "    def save_to_json(self, file_path):\n",
    "        graph_data = {\n",
    "            \"events\": [event.to_dict() for event in self.events.values()],\n",
    "            \"relations\": [relation.to_dict() for relation in self.relations],\n",
    "        }\n",
    "        with open(file_path, 'w') as file:\n",
    "            json.dump(graph_data, file, indent=4)\n",
    "\n",
    "    def load_from_json(self, file_path):\n",
    "        with open(file_path, 'r') as file:\n",
    "            graph_data = json.load(file)\n",
    "        self.events = {data[\"event_name\"]: Event.from_dict(data) for data in graph_data[\"events\"]}\n",
    "        self.relations = [CausalRelation.from_dict(data, self.events) for data in graph_data[\"relations\"]]\n",
    "\n",
    "    def plot_graph(self, filename='causal_graph', format='png', after_consistency = False):\n",
    "        dot = Digraph(comment='The Causal Graph')\n",
    "        \n",
    "        # Add nodes (events)\n",
    "        for event_name, event in self.events.items():\n",
    "            dot.node(event_name, f'{event_name}')\n",
    "        \n",
    "        # Add edges (relations)\n",
    "        for relation in self.relations:\n",
    "            if after_consistency:\n",
    "                direction = relation.consistency_check\n",
    "            else:\n",
    "                direction = relation.direction\n",
    "\n",
    "            if direction >= 1:\n",
    "                start = relation.event1.event_name\n",
    "                end = relation.event2.event_name\n",
    "                # Determine edge color based on consistency\n",
    "                dot.edge(start, end, color = 'black')\n",
    "\n",
    "            elif direction <= -1:\n",
    "                end = relation.event1.event_name\n",
    "                start = relation.event2.event_name\n",
    "                # Determine edge color based on consistency\n",
    "                dot.edge(start, end, color = 'black')\n",
    "\n",
    "            elif direction == 0:\n",
    "                continue\n",
    "            else:\n",
    "                start = relation.event1.event_name\n",
    "                end = relation.event2.event_name\n",
    "                dot.edge(start, end, color ='red', style = 'dashed',dir='none')\n",
    "                continue\n",
    "\n",
    "        # Render the graph to a file and optionally display it\n",
    "        dot.render(filename, format=format, view=True)\n",
    "\n",
    "\n"
   ]
  },
  {
   "cell_type": "markdown",
   "metadata": {},
   "source": [
    "# Causal Discovery"
   ]
  },
  {
   "cell_type": "markdown",
   "metadata": {},
   "source": [
    "## Discovering the graph"
   ]
  },
  {
   "cell_type": "code",
   "execution_count": 13,
   "metadata": {},
   "outputs": [
    {
     "name": "stdout",
     "output_type": "stream",
     "text": [
      "[<__main__.Event object at 0x000001584171E2C0>, <__main__.Event object at 0x000001584173FB50>, <__main__.Event object at 0x000001584173F9A0>, <__main__.Event object at 0x000001584173D8D0>, <__main__.Event object at 0x000001584173E0E0>, <__main__.Event object at 0x000001584173F6A0>, <__main__.Event object at 0x000001584173F670>, <__main__.Event object at 0x000001584173F4F0>, <__main__.Event object at 0x000001584173F970>]\n"
     ]
    }
   ],
   "source": [
    "# We will start by adding all the events and their descriptions from the adults dataset\n",
    "adult_events = []\n",
    "for i in range(len(dataset.columns)):\n",
    "    adult_events.append(Event(dataset.columns[i],adult_info[dataset.columns[i]]))\n",
    "print(adult_events)"
   ]
  },
  {
   "cell_type": "code",
   "execution_count": null,
   "metadata": {},
   "outputs": [],
   "source": [
    "#We initialize the object\n",
    "graph=CausalGraph()\n",
    "\n",
    "#We add the list of events we created\n",
    "graph.add_events(adult_events)\n",
    "\n",
    "#We will check all the possible causal relationships\n",
    "graph.discover_graph(check_consistency=True)\n",
    "\n",
    "#plotting the DAG\n",
    "graph.plot_graph('Adult_DAG3')\n",
    "graph.plot_graph('Adult_DAG_checked3',after_consistency=True)\n",
    "graph.save_to_json('adult_DAG3.json')"
   ]
  },
  {
   "cell_type": "markdown",
   "metadata": {},
   "source": [
    "DAG after discovering relationships\n",
    "\n",
    "\n",
    "![Alt text](./DAGs/Adult_DAG.png \"DAG\")"
   ]
  },
  {
   "cell_type": "markdown",
   "metadata": {},
   "source": [
    "Dag after checking the consistency of the reasonings\n",
    "\n",
    "\n",
    "\n",
    "![Alt text](./DAGs/Adult_DAG_checked.png \"DAG\")"
   ]
  },
  {
   "cell_type": "markdown",
   "metadata": {},
   "source": [
    "## Loading the graph"
   ]
  },
  {
   "cell_type": "code",
   "execution_count": 69,
   "metadata": {},
   "outputs": [],
   "source": [
    "graph=CausalGraph()\n",
    "graph.load_from_json('adult_DAG.json')\n"
   ]
  },
  {
   "cell_type": "code",
   "execution_count": 70,
   "metadata": {},
   "outputs": [],
   "source": [
    "graph.plot_graph('Adult_DAG')\n",
    "graph.plot_graph('Adult_DAG_checked', after_consistency=True)"
   ]
  },
  {
   "cell_type": "markdown",
   "metadata": {},
   "source": [
    "## Leverage 15 graphs"
   ]
  },
  {
   "cell_type": "code",
   "execution_count": 14,
   "metadata": {},
   "outputs": [],
   "source": [
    "for i in range (4,16):\n",
    "    graph=CausalGraph()\n",
    "\n",
    "    #We add the list of events we created\n",
    "    graph.add_events(adult_events)\n",
    "\n",
    "    #We will check all the possible causal relationships\n",
    "    graph.discover_graph(check_consistency=True)\n",
    "\n",
    "    #plotting the DAG\n",
    "    graph.plot_graph('Adult_DAG'+str(i))\n",
    "    graph.plot_graph('Adult_DAG_checked'+str(i),after_consistency=True)\n",
    "    graph.save_to_json('adult_DAG'+str(i)+'.json')"
   ]
  },
  {
   "cell_type": "code",
   "execution_count": 21,
   "metadata": {},
   "outputs": [],
   "source": [
    "total_graph = CausalGraph()\n",
    "total_graph.load_from_json('./DAGs/adult_DAG1.json')\n",
    "for i in range (2,16):\n",
    "    graph=CausalGraph()\n",
    "    graph.load_from_json(f'./DAGs/adult_DAG{i}.json')\n",
    "    for j in range(len(graph.relations)):\n",
    "        relation = graph.relations[j]\n",
    "        direction = relation.direction\n",
    "        direction_c = relation.consistency_check\n",
    "\n",
    "        total_graph.relations[j].direction = total_graph.relations[j].direction + direction\n",
    "        total_graph.relations[j].consistency_check = total_graph.relations[j].consistency_check + direction_c\n",
    "\n",
    "\n",
    "total_graph.save_to_json('adult_DAG_sum.json')"
   ]
  },
  {
   "cell_type": "code",
   "execution_count": 26,
   "metadata": {},
   "outputs": [],
   "source": [
    "import numpy as np\n",
    "final_graph = CausalGraph()\n",
    "final_graph.load_from_json('./DAGs/adult_DAG_sum.json')\n",
    "\n",
    "threshold = 7.5\n",
    "for relation in final_graph.relations:\n",
    "\n",
    "    if relation.direction >= threshold:\n",
    "        relation.direction = 1\n",
    "    elif relation.direction <= -threshold:\n",
    "        relation.direction = -1\n",
    "    else:\n",
    "        relation.direction = 0\n",
    "\n",
    "    if relation.consistency_check >= threshold:\n",
    "        relation.consistency_check = 1\n",
    "    elif relation.consistency_check  <= -threshold:\n",
    "        relation.consistency_check  = -1\n",
    "    else:\n",
    "        relation.consistency_check  = 0\n",
    "\n",
    "\n",
    "\n",
    "final_graph.plot_graph(f'Adult_DAG_final_{threshold}')\n",
    "final_graph.plot_graph(f'Adult_DAG_final_checked_{threshold}',after_consistency=True)\n"
   ]
  },
  {
   "cell_type": "markdown",
   "metadata": {},
   "source": [
    "DAG with threshold 7.5\n",
    "\n",
    "\n",
    "![Alt text](./DAGs/Adult_DAG_final_7.5.png \"DAG\")\n",
    "\n",
    "\n",
    "\n",
    "DAG with threshold5\n",
    "\n",
    "\n",
    "![Alt text](./DAGs/Adult_DAG_final_5.png \"DAG\")"
   ]
  },
  {
   "cell_type": "code",
   "execution_count": 27,
   "metadata": {},
   "outputs": [],
   "source": [
    "final_graph.save_to_json('adult_DAG_final.json')"
   ]
  },
  {
   "cell_type": "markdown",
   "metadata": {},
   "source": [
    "## Comaparing with ground truth DAG"
   ]
  },
  {
   "cell_type": "markdown",
   "metadata": {},
   "source": [
    "Ground truth found on the internet\n",
    "\n",
    "![Alt text](https://www.researchgate.net/publication/352436215/figure/fig3/AS:1035182521991168@1623818154645/Ground-truth-DAG-for-the-simulated-adult-dataset-Gray-edges-indicate-parent-edges-for.png \"DAG\")\n",
    "\n",
    "\n",
    "https://www.researchgate.net/publication/352436215/figure/fig3/AS:1035182521991168@1623818154645/Ground-truth-DAG-for-the-simulated-adult-dataset-Gray-edges-indicate-parent-edges-for.png"
   ]
  },
  {
   "cell_type": "code",
   "execution_count": 30,
   "metadata": {},
   "outputs": [],
   "source": [
    "gt_graph = CausalGraph()\n",
    "gt_graph.load_from_json('./DAGs/adult_DAG_groundtruth.json')\n"
   ]
  },
  {
   "cell_type": "code",
   "execution_count": 31,
   "metadata": {},
   "outputs": [],
   "source": [
    "gt_graph.plot_graph('Adult_DAG_GT')"
   ]
  },
  {
   "cell_type": "code",
   "execution_count": 35,
   "metadata": {},
   "outputs": [
    {
     "name": "stdout",
     "output_type": "stream",
     "text": [
      "22 edges predicted correctly out of 36\n",
      "Accuracy:  61.111111111111114 %\n"
     ]
    }
   ],
   "source": [
    "#Lets check how many edges were predicted corectly\n",
    "count = 0\n",
    "for j in range(len(gt_graph.relations)):\n",
    "    relation = final_graph.relations[j].direction\n",
    "    gt_relation = gt_graph.relations[j].direction \n",
    "    if relation == gt_relation:\n",
    "        count = count + 1\n",
    "    else:\n",
    "        continue\n",
    "\n",
    "acc = count/len(gt_graph.relations)\n",
    "\n",
    "print(f'{count} edges predicted correctly out of {len(gt_graph.relations)}')\n",
    "print('Accuracy: ',acc*100, '%')"
   ]
  },
  {
   "cell_type": "code",
   "execution_count": 32,
   "metadata": {},
   "outputs": [
    {
     "data": {
      "text/plain": [
       "<__main__.CausalGraph at 0x158b3325360>"
      ]
     },
     "execution_count": 32,
     "metadata": {},
     "output_type": "execute_result"
    }
   ],
   "source": [
    "final_graph"
   ]
  },
  {
   "cell_type": "code",
   "execution_count": null,
   "metadata": {},
   "outputs": [],
   "source": []
  }
 ],
 "metadata": {
  "kernelspec": {
   "display_name": "LLMproj",
   "language": "python",
   "name": "python3"
  },
  "language_info": {
   "codemirror_mode": {
    "name": "ipython",
    "version": 3
   },
   "file_extension": ".py",
   "mimetype": "text/x-python",
   "name": "python",
   "nbconvert_exporter": "python",
   "pygments_lexer": "ipython3",
   "version": "3.10.13"
  }
 },
 "nbformat": 4,
 "nbformat_minor": 2
}
