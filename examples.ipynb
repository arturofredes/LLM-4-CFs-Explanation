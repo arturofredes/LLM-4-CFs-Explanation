{
 "cells": [
  {
   "cell_type": "markdown",
   "metadata": {},
   "source": [
    "# Examples\n",
    "In this notebook we will see an example for each prompting strategy of how an explanation is generated and evaluated from start to finish"
   ]
  },
  {
   "cell_type": "code",
   "execution_count": 1,
   "metadata": {},
   "outputs": [],
   "source": [
    "import dice_ml\n",
    "from dice_ml.utils import helpers\n",
    "import pandas as pd\n",
    "import pickle\n",
    "from prompts import *\n",
    "from utils import *\n",
    "from llm_explainers import *"
   ]
  },
  {
   "cell_type": "code",
   "execution_count": 2,
   "metadata": {},
   "outputs": [],
   "source": [
    "# Load the model we want to explain\n",
    "with open(\"\"\"./models/loan_model.pkl\"\"\", 'rb') as file:\n",
    "    model = pickle.load(file)\n",
    "\n",
    "#Load the train and test data set\n",
    "train_dataset = pd.read_csv('./data/adult_train_dataset.csv')\n",
    "test_dataset = pd.read_csv('./data/adult_test_dataset.csv')\n",
    "\n",
    "#Load the examples we will try to explain\n",
    "test_df = pd.read_csv('./data/test_examples.csv')\n",
    "test_df = test_df.drop(columns=['income'], axis = 1)"
   ]
  },
  {
   "cell_type": "markdown",
   "metadata": {},
   "source": [
    "## Zero Shot"
   ]
  },
  {
   "cell_type": "code",
   "execution_count": 5,
   "metadata": {},
   "outputs": [
    {
     "name": "stderr",
     "output_type": "stream",
     "text": [
      "100%|██████████| 1/1 [00:00<00:00,  1.80it/s]\n"
     ]
    }
   ],
   "source": [
    "exp_m = LLMExplanation4CFs(model = model, #Load the model we want to explain\n",
    "                            model_description = \"\"\"ML-system that predicts wether a person will earn more than 50k $ a year\"\"\", # brief explanation of the ML model\n",
    "                            backend='sklearn', # Framework used to build the model (used to generate counterfactuals)\n",
    "                            dataset_info=string_info(train_dataset.columns, helpers.get_adult_data_info()) , # string information about the dataset\n",
    "                            continuous_features=['age', 'hours_per_week'], # Necessary for the counterfactual generation\n",
    "                            outcome_name= 'income', #Necessary for counterfactual generation\n",
    "                            training_set=train_dataset, #Necessary for counterfactual generation\n",
    "                            test_set= test_dataset, #Necessary to  check novelty of the evaluation example\n",
    "                            llm='gpt-4o', #LLM used, works with Langchain\n",
    "                            prompt_type='zero', # zero or one\n",
    "                            n_counterfactuals=5, #Number of counterfactuals used in the explanation \n",
    "                            user_input=False #Human in the loop helping select the causes\n",
    "                           )\n",
    "\n",
    "\n",
    "exp_m.fit()\n",
    "counterfactuals, rules, code1, result1, explanation, code2, final_cf, code3, prediction, n_rules,rules_followed, first_rule, second_rule,third_rule,  is_in_data = exp_m.explain_evaluate(user_data = test_df.iloc[[0]], verbose = False,return_all=True)"
   ]
  },
  {
   "cell_type": "markdown",
   "metadata": {},
   "source": [
    "We will looked at the following example of a woman who is predicted to earn less than 50k$ a year. We will look at the whole process followed by the LLM in order to obtain this final explanation."
   ]
  },
  {
   "cell_type": "code",
   "execution_count": 6,
   "metadata": {},
   "outputs": [
    {
     "name": "stdout",
     "output_type": "stream",
     "text": [
      "<bound method Series.to_string of age                        29\n",
      "workclass             Private\n",
      "education             HS-grad\n",
      "marital_status        Married\n",
      "occupation        Blue-Collar\n",
      "race                    White\n",
      "gender                 Female\n",
      "hours_per_week             38\n",
      "Name: 0, dtype: object>\n"
     ]
    }
   ],
   "source": [
    "print(test_df.iloc[0].to_string)"
   ]
  },
  {
   "cell_type": "markdown",
   "metadata": {},
   "source": [
    "First, a set of counterfactuals will be generated using the DiCE ML package"
   ]
  },
  {
   "cell_type": "code",
   "execution_count": 7,
   "metadata": {},
   "outputs": [
    {
     "data": {
      "text/plain": [
       "<bound method DataFrame.to_string of    age      workclass    education marital_status     occupation   race  \\\n",
       "0   29        Private    Bachelors        Married  Other/Unknown  White   \n",
       "1   29  Other/Unknown      HS-grad        Married   Professional  White   \n",
       "2   29        Private  Prof-school        Married    Blue-Collar  White   \n",
       "3   29     Government      HS-grad        Married   Professional  White   \n",
       "4   29  Self-Employed      HS-grad        Married   White-Collar  White   \n",
       "\n",
       "   gender  hours_per_week  income  \n",
       "0  Female              38       1  \n",
       "1  Female              38       1  \n",
       "2    Male              38       1  \n",
       "3  Female              38       1  \n",
       "4  Female              38       1  >"
      ]
     },
     "execution_count": 7,
     "metadata": {},
     "output_type": "execute_result"
    }
   ],
   "source": [
    "counterfactuals"
   ]
  },
  {
   "cell_type": "markdown",
   "metadata": {},
   "source": [
    "A set of rules is extracted from this counterfactual using the LLM"
   ]
  },
  {
   "cell_type": "code",
   "execution_count": 8,
   "metadata": {},
   "outputs": [
    {
     "name": "stdout",
     "output_type": "stream",
     "text": [
      "Based on the provided negative assessment outcome and the positive counterfactual outcomes, we can derive the following important rules that potentially lead to a positive income prediction for a 29-year-old individual:\n",
      "\n",
      "### Observed Rules to Achieve a Positive Income Prediction:\n",
      "\n",
      "1. **Education Level**:\n",
      "    - Upgrading education from \"HS-grad\" to \"Bachelors\" or higher (e.g., \"Prof-school\") can lead to a positive income prediction.\n",
      "    - Example from counterfactuals:\n",
      "        - Case 0: Education changed from \"HS-grad\" to \"Bachelors\".\n",
      "        - Case 2: Education changed from \"HS-grad\" to \"Prof-school\".\n",
      "\n",
      "2. **Occupation**:\n",
      "    - Changing occupation from \"Blue-Collar\" to other types of occupations, such as \"Other/Unknown,\" \"Professional,\" or \"White-Collar,\" can lead to a positive income prediction.\n",
      "    - Example from counterfactuals:\n",
      "        - Case 0: Occupation changed from \"Blue-Collar\" to \"Other/Unknown\".\n",
      "        - Case 1: Occupation changed from \"Blue-Collar\" to \"Professional\".\n",
      "        - Case 4: Occupation changed from \"Blue-Collar\" to \"White-Collar\".\n",
      "\n",
      "3. **Workclass**:\n",
      "    - Changing workclass from \"Private\" to either \"Other/Unknown,\" \"Government,\" or \"Self-Employed\" can lead to a positive income prediction.\n",
      "    - Example from counterfactuals:\n",
      "        - Case 1: Workclass changed from \"Private\" to \"Other/Unknown\".\n",
      "        - Case 3: Workclass changed from \"Private\" to \"Government\".\n",
      "        - Case 4: Workclass changed from \"Private\" to \"Self-Employed\".\n",
      "\n",
      "4. **Gender**:\n",
      "    - Changing gender from \"Female\" to \"Male\" can lead to a positive income prediction.\n",
      "    - Example from counterfactuals:\n",
      "        - Case 2: Gender changed from \"Female\" to \"Male\".\n",
      "\n",
      "### Summary of Derived Rules:\n",
      "1. **Increase Education Level**:\n",
      "    - From \"HS-grad\" to \"Bachelors\" or \"Prof-school\".\n",
      "\n",
      "2. **Change Occupation**:\n",
      "    - From \"Blue-Collar\" to occupations like \"Other/Unknown,\" \"Professional,\" or \"White-Collar\".\n",
      "\n",
      "3. **Change Workclass**:\n",
      "    - From \"Private\" to \"Other/Unknown,\" \"Government,\" or \"Self-Employed\".\n",
      "\n",
      "4. **Change Gender**:\n",
      "    - From \"Female\" to \"Male\" (Note: This rule is sensitive and may reflect underlying biases in the model).\n",
      "\n",
      "These rules suggest that achieving a higher education level, obtaining a different type of occupation, switching workclass, and gender can significantly influence the likelihood of earning more than $50k a year based on the provided counterfactual cases.\n"
     ]
    }
   ],
   "source": [
    "print(rules)"
   ]
  },
  {
   "cell_type": "markdown",
   "metadata": {},
   "source": [
    "In order to check whether this rules are correct or not, we ask the LLM to create a program that checks it. In the following cell we can see the code generated by the LLM."
   ]
  },
  {
   "cell_type": "code",
   "execution_count": 9,
   "metadata": {},
   "outputs": [
    {
     "name": "stdout",
     "output_type": "stream",
     "text": [
      "import pandas as pd\n",
      "\n",
      "# Negative assessment outcome\n",
      "negative_outcome = pd.DataFrame({\n",
      "    'age': [29],\n",
      "    'workclass': ['Private'],\n",
      "    'education': ['HS-grad'],\n",
      "    'marital_status': ['Married'],\n",
      "    'occupation': ['Blue-Collar'],\n",
      "    'race': ['White'],\n",
      "    'gender': ['Female'],\n",
      "    'hours_per_week': [38],\n",
      "    'income': [0]\n",
      "})\n",
      "\n",
      "# Positive counterfactual outcomes\n",
      "positive_counterfactuals = pd.DataFrame({\n",
      "    'age': [29, 29, 29, 29, 29],\n",
      "    'workclass': ['Private', 'Other/Unknown', 'Private', 'Government', 'Self-Employed'],\n",
      "    'education': ['Bachelors', 'HS-grad', 'Prof-school', 'HS-grad', 'HS-grad'],\n",
      "    'marital_status': ['Married', 'Married', 'Married', 'Married', 'Married'],\n",
      "    'occupation': ['Other/Unknown', 'Professional', 'Blue-Collar', 'Professional', 'White-Collar'],\n",
      "    'race': ['White', 'White', 'White', 'White', 'White'],\n",
      "    'gender': ['Female', 'Female', 'Male', 'Female', 'Female'],\n",
      "    'hours_per_week': [38, 38, 38, 38, 38],\n",
      "    'income': [1, 1, 1, 1, 1]\n",
      "})\n",
      "\n",
      "# Rules\n",
      "rules = {\n",
      "    'Education Level': lambda row: row['education'] in ['Bachelors', 'Prof-school'],\n",
      "    'Occupation': lambda row: row['occupation'] in ['Other/Unknown', 'Professional', 'White-Collar'],\n",
      "    'Workclass': lambda row: row['workclass'] in ['Other/Unknown', 'Government', 'Self-Employed'],\n",
      "    'Gender': lambda row: row['gender'] == 'Male'\n",
      "}\n",
      "\n",
      "# Count how many counterfactuals follow each rule\n",
      "results = {rule: positive_counterfactuals.apply(cond, axis=1).sum() for rule, cond in rules.items()}\n",
      "\n",
      "# Sort results by the number of counterfactuals that follow each rule\n",
      "sorted_results = dict(sorted(results.items(), key=lambda item: item[1], reverse=True))\n",
      "\n",
      "# Print the results\n",
      "print(\"Number of counterfactuals consistent with each rule:\")\n",
      "for rule, count in sorted_results.items():\n",
      "    print(f\"{rule}: {count}\")\n"
     ]
    }
   ],
   "source": [
    "print(code1)"
   ]
  },
  {
   "cell_type": "markdown",
   "metadata": {},
   "source": [
    "After executing this code, the following results were obtained"
   ]
  },
  {
   "cell_type": "code",
   "execution_count": 10,
   "metadata": {},
   "outputs": [
    {
     "name": "stdout",
     "output_type": "stream",
     "text": [
      "Number of counterfactuals consistent with each rule:\n",
      "Occupation: 4\n",
      "Workclass: 3\n",
      "Education Level: 2\n",
      "Gender: 1\n",
      "\n"
     ]
    }
   ],
   "source": [
    "print(result1)"
   ]
  },
  {
   "cell_type": "markdown",
   "metadata": {},
   "source": [
    "By using this causes, the LLM will produce a final explanation, hopefully using the most important causes"
   ]
  },
  {
   "cell_type": "code",
   "execution_count": 11,
   "metadata": {},
   "outputs": [
    {
     "name": "stdout",
     "output_type": "stream",
     "text": [
      "### Explanation:\n",
      "\n",
      "Based on the analysis of the data and the rules derived from counterfactual outcomes, here are some actionable steps you can take to improve your chances of earning more than $50k a year. The steps are prioritized based on how frequently they were observed to be effective in the counterfactual cases.\n",
      "\n",
      "1. **Change Your Occupation**:\n",
      "   - **Most Important**: The data suggests that changing your occupation from \"Blue-Collar\" to another type such as \"Professional,\" \"White-Collar,\" or even \"Other/Unknown\" can significantly increase your chances of earning more than $50k a year. \n",
      "   - **Action**: Consider seeking opportunities for training or education that can qualify you for these types of occupations. Networking and exploring job openings in these areas may also be beneficial.\n",
      "\n",
      "2. **Consider Different Work Environments**:\n",
      "   - **Highly Important**: Switching your workclass from \"Private\" to \"Government,\" \"Self-Employed,\" or even \"Other/Unknown\" has been shown to positively impact income.\n",
      "   - **Action**: Look into job opportunities within the government sector or explore the possibility of starting your own business. This might involve gaining new skills or certifications relevant to these fields.\n",
      "\n",
      "3. **Increase Your Education Level**:\n",
      "   - **Moderately Important**: Upgrading your education from \"HS-grad\" to \"Bachelors\" or even higher, such as \"Prof-school,\" can lead to a higher income.\n",
      "   - **Action**: Consider enrolling in a degree program or professional school that aligns with your career goals. Online courses and part-time programs can be a flexible way to achieve this while continuing to work.\n",
      "\n",
      "4. **Gender Consideration**:\n",
      "   - **Less Important but Noteworthy**: The data indicates that changing gender from \"Female\" to \"Male\" can lead to a higher income. However, this may reflect underlying biases in the model and societal structures.\n",
      "   - **Action**: While changing gender is not a practical or advisable action, being aware of potential biases can help you advocate for fair treatment and seek environments that promote gender equality.\n",
      "\n",
      "### Summary:\n",
      "1. **Change Occupation**: Aim for professions like \"Professional,\" \"White-Collar,\" or even \"Other/Unknown.\"\n",
      "2. **Change Workclass**: Explore opportunities in \"Government,\" \"Self-Employed,\" or \"Other/Unknown\" work environments.\n",
      "3. **Increase Education Level**: Upgrade from \"HS-grad\" to \"Bachelors\" or higher.\n",
      "\n",
      "By focusing on these key areas—occupation, workclass, and education—you can significantly improve your chances of earning more than $50k a year. Take proactive steps to seek new opportunities, further your education, and consider different work environments to achieve your financial goals.\n"
     ]
    }
   ],
   "source": [
    "print(explanation)"
   ]
  },
  {
   "cell_type": "markdown",
   "metadata": {},
   "source": [
    "Now we would like to check the quality of our explanation. As we explain in the paper, we created a close loop evaluation method that checks whether the "
   ]
  },
  {
   "cell_type": "code",
   "execution_count": 12,
   "metadata": {},
   "outputs": [
    {
     "name": "stdout",
     "output_type": "stream",
     "text": [
      "import pandas as pd\n",
      "\n",
      "# Creating a DataFrame with values that are likely to fall into the positive class\n",
      "df = pd.DataFrame({\n",
      "    'age': [29],\n",
      "    'workclass': ['Government'],  # Changed from 'Private' to 'Government'\n",
      "    'education': ['Bachelors'],  # Changed from 'HS-grad' to 'Bachelors'\n",
      "    'marital_status': ['Married'],\n",
      "    'occupation': ['Professional'],  # Changed from 'Blue-Collar' to 'Professional'\n",
      "    'race': ['White'],\n",
      "    'gender': ['Female'],\n",
      "    'hours_per_week': [38],\n",
      "    'income': [1]  # Positive class (>50K)\n",
      "})\n",
      "\n",
      "# Saving the DataFrame to a CSV file\n",
      "df.to_csv('temp_csv.csv', index=False)\n"
     ]
    }
   ],
   "source": [
    "print(code2)"
   ]
  },
  {
   "cell_type": "markdown",
   "metadata": {},
   "source": [
    "After executing the code the LLM correctly generated a counterfactual example."
   ]
  },
  {
   "cell_type": "code",
   "execution_count": 13,
   "metadata": {},
   "outputs": [
    {
     "data": {
      "text/html": [
       "<div>\n",
       "<style scoped>\n",
       "    .dataframe tbody tr th:only-of-type {\n",
       "        vertical-align: middle;\n",
       "    }\n",
       "\n",
       "    .dataframe tbody tr th {\n",
       "        vertical-align: top;\n",
       "    }\n",
       "\n",
       "    .dataframe thead th {\n",
       "        text-align: right;\n",
       "    }\n",
       "</style>\n",
       "<table border=\"1\" class=\"dataframe\">\n",
       "  <thead>\n",
       "    <tr style=\"text-align: right;\">\n",
       "      <th></th>\n",
       "      <th>age</th>\n",
       "      <th>workclass</th>\n",
       "      <th>education</th>\n",
       "      <th>marital_status</th>\n",
       "      <th>occupation</th>\n",
       "      <th>race</th>\n",
       "      <th>gender</th>\n",
       "      <th>hours_per_week</th>\n",
       "    </tr>\n",
       "  </thead>\n",
       "  <tbody>\n",
       "    <tr>\n",
       "      <th>0</th>\n",
       "      <td>29</td>\n",
       "      <td>Government</td>\n",
       "      <td>Bachelors</td>\n",
       "      <td>Married</td>\n",
       "      <td>Professional</td>\n",
       "      <td>White</td>\n",
       "      <td>Female</td>\n",
       "      <td>38</td>\n",
       "    </tr>\n",
       "  </tbody>\n",
       "</table>\n",
       "</div>"
      ],
      "text/plain": [
       "   age   workclass  education marital_status    occupation   race  gender  \\\n",
       "0   29  Government  Bachelors        Married  Professional  White  Female   \n",
       "\n",
       "   hours_per_week  \n",
       "0              38  "
      ]
     },
     "execution_count": 13,
     "metadata": {},
     "output_type": "execute_result"
    }
   ],
   "source": [
    "final_cf"
   ]
  },
  {
   "cell_type": "markdown",
   "metadata": {},
   "source": [
    "We will now try to extract metrics from this counterfactual like the predicted class, rules followed and if it exists in the data set. We ask the LLM for code again and this time it will create a table that we can analyze."
   ]
  },
  {
   "cell_type": "code",
   "execution_count": 14,
   "metadata": {},
   "outputs": [
    {
     "name": "stdout",
     "output_type": "stream",
     "text": [
      "import pandas as pd\n",
      "\n",
      "# Load the counterfactual example from temp_csv.csv\n",
      "df = pd.read_csv('temp_csv.csv')\n",
      "\n",
      "# Define the rules and their importance\n",
      "rules = [\n",
      "    {\"Rule\": \"Increase Education Level from 'HS-grad' to 'Bachelors' or 'Prof-school'\", \"Importance\": 2, \"Column\": \"education\", \"Values\": [\"Bachelors\", \"Prof-school\"]},\n",
      "    {\"Rule\": \"Change Occupation from 'Blue-Collar' to 'Other/Unknown', 'Professional', or 'White-Collar'\", \"Importance\": 4, \"Column\": \"occupation\", \"Values\": [\"Other/Unknown\", \"Professional\", \"White-Collar\"]},\n",
      "    {\"Rule\": \"Change Workclass from 'Private' to 'Other/Unknown', 'Government', or 'Self-Employed'\", \"Importance\": 3, \"Column\": \"workclass\", \"Values\": [\"Other/Unknown\", \"Government\", \"Self-Employed\"]},\n",
      "    {\"Rule\": \"Change Gender from 'Female' to 'Male'\", \"Importance\": 1, \"Column\": \"gender\", \"Values\": [\"Male\"]}\n",
      "]\n",
      "\n",
      "# Initialize the final dataframe\n",
      "results = []\n",
      "\n",
      "# Check if the counterfactual example follows each rule\n",
      "for rule in rules:\n",
      "    rule_followed = int(df[rule[\"Column\"]].iloc[0] in rule[\"Values\"])\n",
      "    results.append({\n",
      "        \"Rule\": rule[\"Rule\"],\n",
      "        \"Importance\": rule[\"Importance\"],\n",
      "        \"In explanation\": rule_followed\n",
      "    })\n",
      "\n",
      "# Convert results to a dataframe\n",
      "df_final = pd.DataFrame(results)\n",
      "\n",
      "# Save to csv\n",
      "df_final.to_csv('evaluation.csv', index=False)\n"
     ]
    }
   ],
   "source": [
    "print(code3)"
   ]
  },
  {
   "cell_type": "code",
   "execution_count": 15,
   "metadata": {},
   "outputs": [
    {
     "data": {
      "text/html": [
       "<div>\n",
       "<style scoped>\n",
       "    .dataframe tbody tr th:only-of-type {\n",
       "        vertical-align: middle;\n",
       "    }\n",
       "\n",
       "    .dataframe tbody tr th {\n",
       "        vertical-align: top;\n",
       "    }\n",
       "\n",
       "    .dataframe thead th {\n",
       "        text-align: right;\n",
       "    }\n",
       "</style>\n",
       "<table border=\"1\" class=\"dataframe\">\n",
       "  <thead>\n",
       "    <tr style=\"text-align: right;\">\n",
       "      <th></th>\n",
       "      <th>Rule</th>\n",
       "      <th>Importance</th>\n",
       "      <th>In explanation</th>\n",
       "    </tr>\n",
       "  </thead>\n",
       "  <tbody>\n",
       "    <tr>\n",
       "      <th>0</th>\n",
       "      <td>Increase Education Level from 'HS-grad' to 'Ba...</td>\n",
       "      <td>2</td>\n",
       "      <td>1</td>\n",
       "    </tr>\n",
       "    <tr>\n",
       "      <th>1</th>\n",
       "      <td>Change Occupation from 'Blue-Collar' to 'Other...</td>\n",
       "      <td>4</td>\n",
       "      <td>1</td>\n",
       "    </tr>\n",
       "    <tr>\n",
       "      <th>2</th>\n",
       "      <td>Change Workclass from 'Private' to 'Other/Unkn...</td>\n",
       "      <td>3</td>\n",
       "      <td>1</td>\n",
       "    </tr>\n",
       "    <tr>\n",
       "      <th>3</th>\n",
       "      <td>Change Gender from 'Female' to 'Male'</td>\n",
       "      <td>1</td>\n",
       "      <td>0</td>\n",
       "    </tr>\n",
       "  </tbody>\n",
       "</table>\n",
       "</div>"
      ],
      "text/plain": [
       "                                                Rule  Importance  \\\n",
       "0  Increase Education Level from 'HS-grad' to 'Ba...           2   \n",
       "1  Change Occupation from 'Blue-Collar' to 'Other...           4   \n",
       "2  Change Workclass from 'Private' to 'Other/Unkn...           3   \n",
       "3              Change Gender from 'Female' to 'Male'           1   \n",
       "\n",
       "   In explanation  \n",
       "0               1  \n",
       "1               1  \n",
       "2               1  \n",
       "3               0  "
      ]
     },
     "execution_count": 15,
     "metadata": {},
     "output_type": "execute_result"
    }
   ],
   "source": [
    "eval_df = pd.read_csv('./temp_files/evaluation.csv')\n",
    "eval_df"
   ]
  },
  {
   "cell_type": "markdown",
   "metadata": {},
   "source": [
    "After analyzing the table we get the following results."
   ]
  },
  {
   "cell_type": "code",
   "execution_count": 16,
   "metadata": {},
   "outputs": [
    {
     "name": "stdout",
     "output_type": "stream",
     "text": [
      "Prediction of the generated example:  1\n",
      "Number of rules generated:  4\n",
      "Number of rules followed:  3\n",
      "1st rule followed  1\n",
      "2nd rule followed  1\n",
      "3rd rule followed  1\n",
      "Example exists in data:  False\n"
     ]
    }
   ],
   "source": [
    "print('Prediction of the generated example: ', prediction)\n",
    "print('Number of rules generated: ', n_rules)\n",
    "print('Number of rules followed: ', rules_followed)\n",
    "print('1st rule followed ', first_rule)\n",
    "print('2nd rule followed ', second_rule)\n",
    "print('3rd rule followed ', third_rule)\n",
    "print('Example exists in data: ', is_in_data)"
   ]
  },
  {
   "cell_type": "markdown",
   "metadata": {},
   "source": [
    "## One Shot"
   ]
  },
  {
   "cell_type": "code",
   "execution_count": 95,
   "metadata": {},
   "outputs": [
    {
     "name": "stderr",
     "output_type": "stream",
     "text": [
      "100%|██████████| 1/1 [00:00<00:00,  4.78it/s]\n"
     ]
    }
   ],
   "source": [
    "exp_m = LLMExplanation4CFs(model = model, #Load the model we want to explain\n",
    "                            model_description = \"\"\"ML-system that predicts wether a person will earn more than 50k $ a year\"\"\", # brief explanation of the ML model\n",
    "                            backend='sklearn', # Framework used to build the model (used to generate counterfactuals)\n",
    "                            dataset_info=string_info(train_dataset.columns, helpers.get_adult_data_info()) , # string information about the dataset\n",
    "                            continuous_features=['age', 'hours_per_week'], # Necessary for the counterfactual generation\n",
    "                            outcome_name= 'income', #Necessary for counterfactual generation\n",
    "                            training_set=train_dataset, #Necessary for counterfactual generation\n",
    "                            test_set= test_dataset, #Necessary to  check novelty of the evaluation example\n",
    "                            llm='gpt-4o', #LLM used, works with Langchain\n",
    "                            prompt_type='one', # zero or one\n",
    "                            n_counterfactuals=5, #Number of counterfactuals used in the explanation \n",
    "                            user_input=False #Human in the loop helping select the causes\n",
    "                           )\n",
    "\n",
    "\n",
    "exp_m.fit()\n",
    "counterfactuals, rules, code1, result1, explanation, code2, final_cf, code3, prediction, n_rules,rules_followed, first_rule, second_rule,third_rule, is_in_data = exp_m.explain_evaluate(user_data = test_df.iloc[[2]], verbose = False,return_all=True)"
   ]
  },
  {
   "cell_type": "markdown",
   "metadata": {},
   "source": [
    "We will looked at the following example of a woman who is predicted to earn less than 50k$ a year. We will look at the whole process followed by the LLM in order to obtain this final explanation."
   ]
  },
  {
   "cell_type": "code",
   "execution_count": 96,
   "metadata": {},
   "outputs": [
    {
     "name": "stdout",
     "output_type": "stream",
     "text": [
      "age                        41\n",
      "workclass             Private\n",
      "education              School\n",
      "marital_status        Married\n",
      "occupation        Blue-Collar\n",
      "race                    White\n",
      "gender                   Male\n",
      "hours_per_week             30\n",
      "Name: 2, dtype: object\n"
     ]
    }
   ],
   "source": [
    "print(test_df.iloc[2])"
   ]
  },
  {
   "cell_type": "markdown",
   "metadata": {},
   "source": [
    "First, a set of counterfactuals will be generated using the DiCE ML package"
   ]
  },
  {
   "cell_type": "code",
   "execution_count": 97,
   "metadata": {},
   "outputs": [
    {
     "data": {
      "text/html": [
       "<div>\n",
       "<style scoped>\n",
       "    .dataframe tbody tr th:only-of-type {\n",
       "        vertical-align: middle;\n",
       "    }\n",
       "\n",
       "    .dataframe tbody tr th {\n",
       "        vertical-align: top;\n",
       "    }\n",
       "\n",
       "    .dataframe thead th {\n",
       "        text-align: right;\n",
       "    }\n",
       "</style>\n",
       "<table border=\"1\" class=\"dataframe\">\n",
       "  <thead>\n",
       "    <tr style=\"text-align: right;\">\n",
       "      <th></th>\n",
       "      <th>age</th>\n",
       "      <th>workclass</th>\n",
       "      <th>education</th>\n",
       "      <th>marital_status</th>\n",
       "      <th>occupation</th>\n",
       "      <th>race</th>\n",
       "      <th>gender</th>\n",
       "      <th>hours_per_week</th>\n",
       "      <th>income</th>\n",
       "    </tr>\n",
       "  </thead>\n",
       "  <tbody>\n",
       "    <tr>\n",
       "      <th>0</th>\n",
       "      <td>41</td>\n",
       "      <td>Private</td>\n",
       "      <td>Prof-school</td>\n",
       "      <td>Married</td>\n",
       "      <td>Blue-Collar</td>\n",
       "      <td>White</td>\n",
       "      <td>Male</td>\n",
       "      <td>16</td>\n",
       "      <td>1</td>\n",
       "    </tr>\n",
       "    <tr>\n",
       "      <th>1</th>\n",
       "      <td>41</td>\n",
       "      <td>Private</td>\n",
       "      <td>School</td>\n",
       "      <td>Divorced</td>\n",
       "      <td>Professional</td>\n",
       "      <td>White</td>\n",
       "      <td>Male</td>\n",
       "      <td>30</td>\n",
       "      <td>1</td>\n",
       "    </tr>\n",
       "    <tr>\n",
       "      <th>2</th>\n",
       "      <td>41</td>\n",
       "      <td>Private</td>\n",
       "      <td>Bachelors</td>\n",
       "      <td>Married</td>\n",
       "      <td>Blue-Collar</td>\n",
       "      <td>White</td>\n",
       "      <td>Male</td>\n",
       "      <td>19</td>\n",
       "      <td>1</td>\n",
       "    </tr>\n",
       "    <tr>\n",
       "      <th>3</th>\n",
       "      <td>41</td>\n",
       "      <td>Self-Employed</td>\n",
       "      <td>School</td>\n",
       "      <td>Married</td>\n",
       "      <td>Blue-Collar</td>\n",
       "      <td>White</td>\n",
       "      <td>Female</td>\n",
       "      <td>30</td>\n",
       "      <td>1</td>\n",
       "    </tr>\n",
       "    <tr>\n",
       "      <th>4</th>\n",
       "      <td>41</td>\n",
       "      <td>Private</td>\n",
       "      <td>Doctorate</td>\n",
       "      <td>Married</td>\n",
       "      <td>Blue-Collar</td>\n",
       "      <td>White</td>\n",
       "      <td>Male</td>\n",
       "      <td>30</td>\n",
       "      <td>1</td>\n",
       "    </tr>\n",
       "  </tbody>\n",
       "</table>\n",
       "</div>"
      ],
      "text/plain": [
       "   age      workclass    education marital_status    occupation   race  \\\n",
       "0   41        Private  Prof-school        Married   Blue-Collar  White   \n",
       "1   41        Private       School       Divorced  Professional  White   \n",
       "2   41        Private    Bachelors        Married   Blue-Collar  White   \n",
       "3   41  Self-Employed       School        Married   Blue-Collar  White   \n",
       "4   41        Private    Doctorate        Married   Blue-Collar  White   \n",
       "\n",
       "   gender  hours_per_week  income  \n",
       "0    Male              16       1  \n",
       "1    Male              30       1  \n",
       "2    Male              19       1  \n",
       "3  Female              30       1  \n",
       "4    Male              30       1  "
      ]
     },
     "execution_count": 97,
     "metadata": {},
     "output_type": "execute_result"
    }
   ],
   "source": [
    "counterfactuals"
   ]
  },
  {
   "cell_type": "markdown",
   "metadata": {},
   "source": [
    "A set of rules is extracted from this counterfactual using the LLM"
   ]
  },
  {
   "cell_type": "code",
   "execution_count": 98,
   "metadata": {},
   "outputs": [
    {
     "name": "stdout",
     "output_type": "stream",
     "text": [
      "Based on the provided negative assessment outcome and the positive counterfactual outcomes, here are the most important observed rules:\n",
      "\n",
      "1. **Higher Education (Prof-school, Bachelors, Doctorate) Leads to Higher Income**:\n",
      "    - The individual in the negative outcome has a \"School\" level of education.\n",
      "    - In the positive counterfactuals, individuals with \"Prof-school\", \"Bachelors\", and \"Doctorate\" education levels are shown to have a higher income.\n",
      "\n",
      "2. **Marital Status Being Divorced Can Lead to Higher Income**:\n",
      "    - In the counterfactual case where the individual is \"Divorced\", the income is higher even with the same \"School\" level of education and same occupation.\n",
      "\n",
      "3. **Type of Workclass Can Influence Income**:\n",
      "    - The individual in the negative outcome is in the \"Private\" workclass.\n",
      "    - One of the counterfactuals shows that being \"Self-Employed\" with the same education level leads to a higher income.\n",
      "\n",
      "4. **Occupation Being Professional Leads to Higher Income**:\n",
      "    - The individual in the negative outcome is in a \"Blue-Collar\" occupation.\n",
      "    - In the counterfactuals, an occupation such as \"Professional\" leads to a higher income, even with the same education level and marital status.\n",
      "\n",
      "5. **Hours Per Week Less Influential in this Case**:\n",
      "    - Despite variations in hours per week (16, 19, 30) in the positive counterfactuals, the individuals still have higher incomes, indicating that hours per week alone are less influential compared to education level and occupation.\n",
      "\n",
      "These rules highlight key factors that can influence the income prediction in this context.\n"
     ]
    }
   ],
   "source": [
    "print(rules)"
   ]
  },
  {
   "cell_type": "markdown",
   "metadata": {},
   "source": [
    "In order to check whether this rules are correct or not, we ask the LLM to create a program that checks it. In the following cell we can see the code generated by the LLM."
   ]
  },
  {
   "cell_type": "code",
   "execution_count": 99,
   "metadata": {},
   "outputs": [
    {
     "name": "stdout",
     "output_type": "stream",
     "text": [
      "import pandas as pd\n",
      "\n",
      "# Original negative outcome\n",
      "original = pd.DataFrame({\n",
      "    'age': [41],\n",
      "    'workclass': ['Private'],\n",
      "    'education': ['School'],\n",
      "    'marital_status': ['Married'],\n",
      "    'occupation': ['Blue-Collar'],\n",
      "    'race': ['White'],\n",
      "    'gender': ['Male'],\n",
      "    'hours_per_week': [30],\n",
      "    'income': [0]\n",
      "})\n",
      "\n",
      "# Counterfactuals\n",
      "counterfactuals = pd.DataFrame({\n",
      "    'age': [41, 41, 41, 41, 41],\n",
      "    'workclass': ['Private', 'Private', 'Private', 'Self-Employed', 'Private'],\n",
      "    'education': ['Prof-school', 'School', 'Bachelors', 'School', 'Doctorate'],\n",
      "    'marital_status': ['Married', 'Divorced', 'Married', 'Married', 'Married'],\n",
      "    'occupation': ['Blue-Collar', 'Professional', 'Blue-Collar', 'Blue-Collar', 'Blue-Collar'],\n",
      "    'race': ['White', 'White', 'White', 'White', 'White'],\n",
      "    'gender': ['Male', 'Male', 'Male', 'Female', 'Male'],\n",
      "    'hours_per_week': [16, 30, 19, 30, 30],\n",
      "    'income': [1, 1, 1, 1, 1]\n",
      "})\n",
      "\n",
      "# Rule 1: Higher education (Prof-school, Bachelors, Doctorate) leads to higher income\n",
      "rule1 = counterfactuals['education'].isin(['Prof-school', 'Bachelors', 'Doctorate']).sum()\n",
      "\n",
      "# Rule 2: Marital status being Divorced can lead to higher income\n",
      "rule2 = (counterfactuals['marital_status'] == 'Divorced').sum()\n",
      "\n",
      "# Rule 3: Type of workclass can influence income (Self-Employed leads to higher income)\n",
      "rule3 = (counterfactuals['workclass'] == 'Self-Employed').sum()\n",
      "\n",
      "# Rule 4: Occupation being Professional leads to higher income\n",
      "rule4 = (counterfactuals['occupation'] == 'Professional').sum()\n",
      "\n",
      "# Rule 5: Hours per week less influential in this case (not directly counted as a rule)\n",
      "\n",
      "# Print results\n",
      "print(\"Number of counterfactuals following Rule 1 (Higher education):\", rule1)\n",
      "print(\"Number of counterfactuals following Rule 2 (Marital status being Divorced):\", rule2)\n",
      "print(\"Number of counterfactuals following Rule 3 (Self-Employed workclass):\", rule3)\n",
      "print(\"Number of counterfactuals following Rule 4 (Occupation being Professional):\", rule4)\n"
     ]
    }
   ],
   "source": [
    "print(code1)"
   ]
  },
  {
   "cell_type": "markdown",
   "metadata": {},
   "source": [
    "After executing this code, the following results were obtained"
   ]
  },
  {
   "cell_type": "code",
   "execution_count": 100,
   "metadata": {},
   "outputs": [
    {
     "name": "stdout",
     "output_type": "stream",
     "text": [
      "Number of counterfactuals following Rule 1 (Higher education): 3\n",
      "Number of counterfactuals following Rule 2 (Marital status being Divorced): 1\n",
      "Number of counterfactuals following Rule 3 (Self-Employed workclass): 1\n",
      "Number of counterfactuals following Rule 4 (Occupation being Professional): 1\n",
      "\n"
     ]
    }
   ],
   "source": [
    "print(result1)"
   ]
  },
  {
   "cell_type": "markdown",
   "metadata": {},
   "source": [
    "By using this causes, the LLM will produce a final explanation, hopefully using the most important causes"
   ]
  },
  {
   "cell_type": "code",
   "execution_count": 101,
   "metadata": {},
   "outputs": [
    {
     "name": "stdout",
     "output_type": "stream",
     "text": [
      "Based on the analysis of your current situation and the observed patterns in the data, here are some clear steps you can take to improve your chances of earning more than $50K a year:\n",
      "\n",
      "### 1. Pursue Higher Education\n",
      "The most influential factor is education. Individuals with higher education levels such as Professional School, Bachelors, and Doctorate degrees are more likely to earn a higher income. Currently, you have a \"School\" level of education. Investing in further education could significantly improve your economic prospects. Consider enrolling in higher education programs or professional courses to enhance your qualifications.\n",
      "\n",
      "### 2. Explore Different Occupations\n",
      "Another key factor is the type of occupation. Individuals in \"Professional\" roles tend to earn higher incomes compared to those in \"Blue-Collar\" jobs. If possible, seek opportunities or training that could transition you into a more professional role within your field or a new industry that values your skills.\n",
      "\n",
      "### 3. Consider Marital Status Impact\n",
      "While this factor is less controllable, data shows that individuals who are \"Divorced\" have higher incomes even with the same education and occupation. This might reflect a variety of socio-economic factors. While changing your marital status is not a practical recommendation, it's important to be aware of how life circumstances can impact income.\n",
      "\n",
      "### 4. Evaluate Workclass Opportunities\n",
      "Being \"Self-Employed\" is another observed factor that can lead to higher income compared to being in the \"Private\" workclass. If you have entrepreneurial skills or a business idea, exploring self-employment might be a viable path to increasing your income.\n",
      "\n",
      "### 5. Hours Per Week is Less Critical\n",
      "Interestingly, the total number of hours you work per week seems to be less influential compared to education and occupation. While working more hours can help, focusing on improving your education and transitioning to a higher-income occupation will likely have a greater impact on your income level.\n",
      "\n",
      "### Action Steps:\n",
      "1. **Education**: Research higher education programs or professional courses that align with your career goals.\n",
      "2. **Occupation**: Look into certifications or training programs that can help you move into a professional role.\n",
      "3. **Self-Employment**: If you have a business idea, consider creating a business plan and exploring self-employment opportunities.\n",
      "4. **Awareness**: Be conscious of how different life factors can impact your income and make strategic decisions accordingly.\n",
      "\n",
      "By focusing on these areas, you can take actionable steps toward improving your income prospects. Investing in your education and exploring new career opportunities are key strategies to achieving a higher income bracket.\n"
     ]
    }
   ],
   "source": [
    "print(explanation)"
   ]
  },
  {
   "cell_type": "markdown",
   "metadata": {},
   "source": [
    "Now we would like to check the quality of our explanation. As we explain in the paper, we created a close loop evaluation method that checks whether the "
   ]
  },
  {
   "cell_type": "code",
   "execution_count": 102,
   "metadata": {},
   "outputs": [
    {
     "name": "stdout",
     "output_type": "stream",
     "text": [
      "import pandas as pd\n",
      "\n",
      "# Define the data for the DataFrame\n",
      "data = {\n",
      "    'age': [41],\n",
      "    'workclass': ['Self-Employed'],\n",
      "    'education': ['Bachelors'],\n",
      "    'marital_status': ['Married'],\n",
      "    'occupation': ['Professional'],\n",
      "    'race': ['White'],\n",
      "    'gender': ['Male'],\n",
      "    'hours_per_week': [30],\n",
      "    'income': [1]\n",
      "}\n",
      "\n",
      "# Create the DataFrame\n",
      "df = pd.DataFrame(data)\n",
      "\n",
      "# Save to csv\n",
      "df.to_csv('temp_csv.csv', index=False)\n"
     ]
    }
   ],
   "source": [
    "print(code2)"
   ]
  },
  {
   "cell_type": "markdown",
   "metadata": {},
   "source": [
    "After executing the code the LLM correctly generated a counterfactual example."
   ]
  },
  {
   "cell_type": "code",
   "execution_count": 103,
   "metadata": {},
   "outputs": [
    {
     "data": {
      "text/html": [
       "<div>\n",
       "<style scoped>\n",
       "    .dataframe tbody tr th:only-of-type {\n",
       "        vertical-align: middle;\n",
       "    }\n",
       "\n",
       "    .dataframe tbody tr th {\n",
       "        vertical-align: top;\n",
       "    }\n",
       "\n",
       "    .dataframe thead th {\n",
       "        text-align: right;\n",
       "    }\n",
       "</style>\n",
       "<table border=\"1\" class=\"dataframe\">\n",
       "  <thead>\n",
       "    <tr style=\"text-align: right;\">\n",
       "      <th></th>\n",
       "      <th>age</th>\n",
       "      <th>workclass</th>\n",
       "      <th>education</th>\n",
       "      <th>marital_status</th>\n",
       "      <th>occupation</th>\n",
       "      <th>race</th>\n",
       "      <th>gender</th>\n",
       "      <th>hours_per_week</th>\n",
       "    </tr>\n",
       "  </thead>\n",
       "  <tbody>\n",
       "    <tr>\n",
       "      <th>0</th>\n",
       "      <td>41</td>\n",
       "      <td>Self-Employed</td>\n",
       "      <td>Bachelors</td>\n",
       "      <td>Married</td>\n",
       "      <td>Professional</td>\n",
       "      <td>White</td>\n",
       "      <td>Male</td>\n",
       "      <td>30</td>\n",
       "    </tr>\n",
       "  </tbody>\n",
       "</table>\n",
       "</div>"
      ],
      "text/plain": [
       "   age      workclass  education marital_status    occupation   race gender  \\\n",
       "0   41  Self-Employed  Bachelors        Married  Professional  White   Male   \n",
       "\n",
       "   hours_per_week  \n",
       "0              30  "
      ]
     },
     "execution_count": 103,
     "metadata": {},
     "output_type": "execute_result"
    }
   ],
   "source": [
    "final_cf"
   ]
  },
  {
   "cell_type": "markdown",
   "metadata": {},
   "source": [
    "We will now try to extract metrics from this counterfactual like the predicted class, rules followed and if it exists in the data set. We ask the LLM for code again and this time it will create a table that we can analyze."
   ]
  },
  {
   "cell_type": "code",
   "execution_count": 104,
   "metadata": {},
   "outputs": [
    {
     "name": "stdout",
     "output_type": "stream",
     "text": [
      "import pandas as pd\n",
      "\n",
      "# Read example\n",
      "df = pd.read_csv('temp_csv.csv')\n",
      "\n",
      "# Define the data for the DataFrame\n",
      "data = {\n",
      "    'Rule': [\n",
      "        'Higher education (Prof-school, Bachelors, Doctorate) leads to higher income.',\n",
      "        'Marital status being Divorced can lead to higher income.',\n",
      "        'Type of workclass being Self-Employed can influence income.',\n",
      "        'Occupation being Professional leads to higher income.',\n",
      "        'Hours per week less influential in this case.'\n",
      "    ],\n",
      "    'Importance': [3, 1, 1, 1, 0],  # Counterfactuals following each rule\n",
      "    'In explanation': [0, 0, 0, 0, 0]  # Initial values, will update based on the example\n",
      "}\n",
      "\n",
      "# Create the DataFrame\n",
      "df_final = pd.DataFrame(data)\n",
      "\n",
      "# Check if the example follows each rule\n",
      "if df['education'].iloc[0] in ['Prof-school', 'Bachelors', 'Doctorate']:\n",
      "    df_final.at[0, 'In explanation'] = 1\n",
      "if df['marital_status'].iloc[0] == 'Divorced':\n",
      "    df_final.at[1, 'In explanation'] = 1\n",
      "if df['workclass'].iloc[0] == 'Self-Employed':\n",
      "    df_final.at[2, 'In explanation'] = 1\n",
      "if df['occupation'].iloc[0] == 'Professional':\n",
      "    df_final.at[3, 'In explanation'] = 1\n",
      "if df['hours_per_week'].iloc[0] < 40:  # Assumption based on the provided example\n",
      "    df_final.at[4, 'In explanation'] = 1\n",
      "\n",
      "# Save to csv\n",
      "df_final.to_csv('evaluation.csv', index=False)\n"
     ]
    }
   ],
   "source": [
    "print(code3)"
   ]
  },
  {
   "cell_type": "code",
   "execution_count": 105,
   "metadata": {},
   "outputs": [
    {
     "data": {
      "text/html": [
       "<div>\n",
       "<style scoped>\n",
       "    .dataframe tbody tr th:only-of-type {\n",
       "        vertical-align: middle;\n",
       "    }\n",
       "\n",
       "    .dataframe tbody tr th {\n",
       "        vertical-align: top;\n",
       "    }\n",
       "\n",
       "    .dataframe thead th {\n",
       "        text-align: right;\n",
       "    }\n",
       "</style>\n",
       "<table border=\"1\" class=\"dataframe\">\n",
       "  <thead>\n",
       "    <tr style=\"text-align: right;\">\n",
       "      <th></th>\n",
       "      <th>Rule</th>\n",
       "      <th>Importance</th>\n",
       "      <th>In explanation</th>\n",
       "    </tr>\n",
       "  </thead>\n",
       "  <tbody>\n",
       "    <tr>\n",
       "      <th>0</th>\n",
       "      <td>Higher education (Prof-school, Bachelors, Doct...</td>\n",
       "      <td>3</td>\n",
       "      <td>1</td>\n",
       "    </tr>\n",
       "    <tr>\n",
       "      <th>1</th>\n",
       "      <td>Marital status being Divorced can lead to high...</td>\n",
       "      <td>1</td>\n",
       "      <td>0</td>\n",
       "    </tr>\n",
       "    <tr>\n",
       "      <th>2</th>\n",
       "      <td>Type of workclass being Self-Employed can infl...</td>\n",
       "      <td>1</td>\n",
       "      <td>1</td>\n",
       "    </tr>\n",
       "    <tr>\n",
       "      <th>3</th>\n",
       "      <td>Occupation being Professional leads to higher ...</td>\n",
       "      <td>1</td>\n",
       "      <td>1</td>\n",
       "    </tr>\n",
       "    <tr>\n",
       "      <th>4</th>\n",
       "      <td>Hours per week less influential in this case.</td>\n",
       "      <td>0</td>\n",
       "      <td>1</td>\n",
       "    </tr>\n",
       "  </tbody>\n",
       "</table>\n",
       "</div>"
      ],
      "text/plain": [
       "                                                Rule  Importance  \\\n",
       "0  Higher education (Prof-school, Bachelors, Doct...           3   \n",
       "1  Marital status being Divorced can lead to high...           1   \n",
       "2  Type of workclass being Self-Employed can infl...           1   \n",
       "3  Occupation being Professional leads to higher ...           1   \n",
       "4      Hours per week less influential in this case.           0   \n",
       "\n",
       "   In explanation  \n",
       "0               1  \n",
       "1               0  \n",
       "2               1  \n",
       "3               1  \n",
       "4               1  "
      ]
     },
     "execution_count": 105,
     "metadata": {},
     "output_type": "execute_result"
    }
   ],
   "source": [
    "eval_df = pd.read_csv('./temp_files/evaluation.csv')\n",
    "eval_df"
   ]
  },
  {
   "cell_type": "markdown",
   "metadata": {},
   "source": [
    "After analyzing the table we get the following results."
   ]
  },
  {
   "cell_type": "code",
   "execution_count": 106,
   "metadata": {},
   "outputs": [
    {
     "name": "stdout",
     "output_type": "stream",
     "text": [
      "Prediction of the generated example:  1\n",
      "Number of rules generated:  5\n",
      "Number of rules followed:  4\n",
      "1st rule followed  1\n",
      "2nd rule followed  0\n",
      "3rd rule followed  1\n",
      "Example exists in data:  False\n"
     ]
    }
   ],
   "source": [
    "print('Prediction of the generated example: ', prediction)\n",
    "print('Number of rules generated: ', n_rules)\n",
    "print('Number of rules followed: ', rules_followed)\n",
    "print('1st rule followed ', first_rule)\n",
    "print('2nd rule followed ', second_rule)\n",
    "print('3rd rule followed ', third_rule)\n",
    "print('Example exists in data: ', is_in_data)"
   ]
  },
  {
   "cell_type": "markdown",
   "metadata": {},
   "source": [
    "## Tree of Thought\n",
    "Tree of thought will open a given amount of branches and for each one of them an explanation will be generated like in the previous examples"
   ]
  },
  {
   "cell_type": "code",
   "execution_count": 3,
   "metadata": {},
   "outputs": [
    {
     "name": "stderr",
     "output_type": "stream",
     "text": [
      "100%|██████████| 1/1 [00:00<00:00,  1.85it/s]\n",
      "100%|██████████| 1/1 [00:00<00:00,  1.96it/s]\n",
      "100%|██████████| 1/1 [00:00<00:00,  1.56it/s]\n"
     ]
    }
   ],
   "source": [
    "exp_m = ToTLLMExplanation4CFs(model = model, #Load the model we want to explain\n",
    "                        model_description = \"\"\"ML-system that predicts wether a person will earn more than 50k $ a year\"\"\", # brief explanation of the ML model\n",
    "                        backend='sklearn', # Framework used to build the model (used to generate counterfactuals)\n",
    "                        dataset_info=string_info(train_dataset.columns, helpers.get_adult_data_info()) , # string information about the dataset\n",
    "                        continuous_features=['age', 'hours_per_week'], # Necessary for the counterfactual generation\n",
    "                        outcome_name= 'income', #Necessary for counterfactual generation\n",
    "                        training_set=train_dataset, #Necessary for counterfactual generation\n",
    "                        test_set= test_dataset, #Necessary to  check novelty of the evaluation example\n",
    "                        llm='gpt-4o', #LLM used, works with Langchain\n",
    "                        prompt_type='zero', # zero or one\n",
    "                        n_counterfactuals=5, #Number of counterfactuals used in the explanation \n",
    "                        user_input=False, #Human in the loop helping select the causes\n",
    "                        branches = 3\n",
    "                    )\n",
    "exp_m.fit()\n",
    "\n",
    "out, explanation, code2, final_cf, code3, final_df, prediction, n_rules,rules_followed, first_rule, second_rule,third_rule, in_data = exp_m.explain_evaluate(user_data = test_df.iloc[[2]], verbose = False,return_all=True) "
   ]
  },
  {
   "cell_type": "markdown",
   "metadata": {},
   "source": [
    "After this process is done, we join all the examples in order ro feed them to the LLM"
   ]
  },
  {
   "cell_type": "code",
   "execution_count": 4,
   "metadata": {},
   "outputs": [
    {
     "name": "stdout",
     "output_type": "stream",
     "text": [
      "\n",
      "\n",
      "System1:\n",
      "Rules:\n",
      "To extract the most important rules that differentiate between the negative and positive outcomes from the provided data, we need to identify the key changes between the negative assessment and the positive counterfactuals. Let's analyze the differences:\n",
      "\n",
      "### Negative Assessment Outcome:\n",
      "- **Age**: 41\n",
      "- **Workclass**: Private\n",
      "- **Education**: School\n",
      "- **Marital Status**: Married\n",
      "- **Occupation**: Blue-Collar\n",
      "- **Race**: White\n",
      "- **Gender**: Male\n",
      "- **Hours per Week**: 30\n",
      "- **Income**: 0\n",
      "\n",
      "### Positive Counterfactual Outcomes:\n",
      "1. **Case 1**:\n",
      "   - **Age**: 61\n",
      "   - **Workclass**: Private\n",
      "   - **Education**: Bachelors\n",
      "   - **Marital Status**: Married\n",
      "   - **Occupation**: Blue-Collar\n",
      "   - **Race**: White\n",
      "   - **Gender**: Male\n",
      "   - **Hours per Week**: 30\n",
      "   - **Income**: 1\n",
      "\n",
      "2. **Case 2**:\n",
      "   - **Age**: 41\n",
      "   - **Workclass**: Private\n",
      "   - **Education**: Masters\n",
      "   - **Marital Status**: Married\n",
      "   - **Occupation**: Blue-Collar\n",
      "   - **Race**: Other\n",
      "   - **Gender**: Male\n",
      "   - **Hours per Week**: 30\n",
      "   - **Income**: 1\n",
      "\n",
      "3. **Case 3**:\n",
      "   - **Age**: 41\n",
      "   - **Workclass**: Private\n",
      "   - **Education**: Masters\n",
      "   - **Marital Status**: Separated\n",
      "   - **Occupation**: Blue-Collar\n",
      "   - **Race**: White\n",
      "   - **Gender**: Male\n",
      "   - **Hours per Week**: 30\n",
      "   - **Income**: 1\n",
      "\n",
      "4. **Case 4**:\n",
      "   - **Age**: 41\n",
      "   - **Workclass**: Private\n",
      "   - **Education**: Masters\n",
      "   - **Marital Status**: Married\n",
      "   - **Occupation**: Service\n",
      "   - **Race**: White\n",
      "   - **Gender**: Male\n",
      "   - **Hours per Week**: 30\n",
      "   - **Income**: 1\n",
      "\n",
      "5. **Case 5**:\n",
      "   - **Age**: 52\n",
      "   - **Workclass**: Private\n",
      "   - **Education**: Prof-school\n",
      "   - **Marital Status**: Married\n",
      "   - **Occupation**: Blue-Collar\n",
      "   - **Race**: White\n",
      "   - **Gender**: Male\n",
      "   - **Hours per Week**: 30\n",
      "   - **Income**: 1\n",
      "\n",
      "### Rules:\n",
      "Based on the comparison, the most important observed rules that likely lead to a positive outcome are:\n",
      "\n",
      "1. **Higher Education Level**: In all positive cases, the education level is higher than \"School.\" The levels observed are Bachelors, Masters, or Prof-school.\n",
      "   - **Rule**: Achieving a higher education level (Bachelors, Masters, or Prof-school) increases the likelihood of earning more than $50k.\n",
      "\n",
      "2. **Age Factor**: In one positive case, age is significantly higher (61), and in another, it is 52. While age 41 is common in some cases, combined with other factors, age might have a lesser impact but still noticeable.\n",
      "   - **Rule**: Being older (e.g., 61 or 52) may contribute positively when combined with other factors.\n",
      "\n",
      "3. **Change in Marital Status**: One positive case shows a change in marital status to \"Separated.\"\n",
      "   - **Rule**: Marital status being \"Separated\" (in combination with other factors) can lead to a positive outcome.\n",
      "\n",
      "4. **Occupation Shift**: In one positive case, the occupation changed from \"Blue-Collar\" to \"Service.\"\n",
      "   - **Rule**: Changing occupation to \"Service\" (in combination with other factors) can increase the likelihood of a positive outcome.\n",
      "\n",
      "5. **Race Factor**: In one positive case, the race is \"Other\" instead of \"White.\"\n",
      "   - **Rule**: Being of a different race (Other) can, in some cases, contribute to a positive outcome (though this might be context-specific).\n",
      "\n",
      "### Summary of Most Important Rules:\n",
      "1. **Higher Education**: Achieving at least a Bachelors, Masters, or Prof-school level significantly increases the likelihood of earning more than $50k.\n",
      "2. **Age**: Being older (e.g., 61 or 52) may have a positive impact.\n",
      "3. **Marital Status**: Being \"Separated\" might improve the outcome in some contexts.\n",
      "4. **Occupation**: Shifting from \"Blue-Collar\" to \"Service\" can be beneficial.\n",
      "5. **Race**: Being of a different race (Other) instead of White in some instances can contribute positively.\n",
      "\n",
      "These rules suggest that education is the most critical factor, followed by age, marital status, occupation, and race.\n",
      "Results:\n",
      "Higher Education Level: 5 counterfactuals consistent with this rule\n",
      "Older Age: 2 counterfactuals consistent with this rule\n",
      "Marital Status Changed to Separated: 1 counterfactuals consistent with this rule\n",
      "Occupation Shift to Service: 1 counterfactuals consistent with this rule\n",
      "Race Other than White: 1 counterfactuals consistent with this rule\n",
      "\n",
      "Explanation:\n",
      "### Explanation:\n",
      "\n",
      "From the analysis of the data, we have identified several key factors that can help improve your chances of earning more than $50,000 a year. Here are the most important steps you can take:\n",
      "\n",
      "1. **Increase Your Education Level**:\n",
      "   - **Key Insight**: The most critical factor by far is achieving a higher education level. All the positive cases had individuals with at least a Bachelor's, Master's, or Professional degree.\n",
      "   - **Action**: Consider pursuing further education. Enrolling in and completing a Bachelor's, Master's, or Professional school program can significantly increase your earning potential.\n",
      "\n",
      "2. **Age and Experience**:\n",
      "   - **Key Insight**: In some cases, being older (like 52 or 61) was associated with higher income.\n",
      "   - **Action**: While age itself is not something you can change, gaining more experience in your field over time can be beneficial. Focus on gaining valuable experience and possibly seeking promotions or higher-level positions as you get older.\n",
      "\n",
      "3. **Marital Status**:\n",
      "   - **Key Insight**: One of the positive cases showed a change in marital status to \"Separated.\"\n",
      "   - **Action**: This factor is less significant compared to education, but it may still have an impact. Focus on the other more controllable factors first.\n",
      "\n",
      "4. **Occupation Shift**:\n",
      "   - **Key Insight**: Changing your occupation from a \"Blue-Collar\" job to a \"Service\" job was beneficial in one positive case.\n",
      "   - **Action**: If possible, consider transitioning to a different occupation that might offer better financial prospects. Additional training or education might be required to make this shift.\n",
      "\n",
      "5. **Race**:\n",
      "   - **Key Insight**: In one case, being of a different race (Other than White) was associated with a higher income.\n",
      "   - **Action**: This is not something that can be changed, but awareness of potential biases can help you find ways to overcome them.\n",
      "\n",
      "### Summary and Call to Action:\n",
      "To improve your chances of earning more than $50,000 a year, the most effective action you can take is to pursue higher education. Completing a degree such as a Bachelor's, Master's, or Professional school program is the most consistent factor associated with higher income. Additionally, gaining more experience over time, considering a shift in occupation, and being aware of potential biases can also help improve your financial situation.\n",
      "\n",
      "Focus primarily on increasing your education level, as this has the highest impact, and then consider the other factors as secondary steps. Good luck on your journey to achieving a higher income!\n",
      "\n",
      "System2:\n",
      "Rules:\n",
      "Based on the provided data, let's derive the most important observed rules that differentiate the negative assessment outcome from the positive counterfactual outcomes.\n",
      "\n",
      "### Analysis:\n",
      "\n",
      "#### Negative Assessment Outcome:\n",
      "- Age: 41\n",
      "- Workclass: Private\n",
      "- Education: School\n",
      "- Marital Status: Married\n",
      "- Occupation: Blue-Collar\n",
      "- Race: White\n",
      "- Gender: Male\n",
      "- Hours per Week: 30\n",
      "- Income: 0 (less than 50k)\n",
      "\n",
      "#### Positive Counterfactual Outcomes:\n",
      "1. Age: 41, Workclass: Private, Education: Masters, Marital Status: Married, Occupation: Professional, Race: White, Gender: Male, Hours per Week: 30, Income: 1 (more than 50k)\n",
      "2. Age: 41, Workclass: Private, Education: Prof-school, Marital Status: Married, Occupation: Blue-Collar, Race: White, Gender: Male, Hours per Week: 30, Income: 1\n",
      "3. Age: 41, Workclass: Private, Education: Masters, Marital Status: Divorced, Occupation: Blue-Collar, Race: White, Gender: Male, Hours per Week: 30, Income: 1\n",
      "4. Age: 61, Workclass: Private, Education: Prof-school, Marital Status: Married, Occupation: Blue-Collar, Race: White, Gender: Male, Hours per Week: 30, Income: 1\n",
      "5. Age: 41, Workclass: Private, Education: Bachelors, Marital Status: Married, Occupation: White-Collar, Race: White, Gender: Male, Hours per Week: 30, Income: 1\n",
      "\n",
      "### Derived Rules:\n",
      "1. **Higher Education Leads to Higher Income**:\n",
      "    - The counterfactual cases have higher educational qualifications (Masters, Prof-school, Bachelors) as compared to 'School' in the negative outcome. This indicates that higher education is a significant factor in predicting higher income.\n",
      "\n",
      "2. **Occupation Type Influences Income**:\n",
      "    - The positive counterfactual outcomes show occupations like Professional and White-Collar, while the negative outcome has a Blue-Collar occupation. This suggests that certain occupations are more likely to result in a higher income.\n",
      "\n",
      "3. **Marital Status Might Have a Minor Influence**:\n",
      "    - In one of the counterfactual cases, the individual is divorced and still earns more than 50k. While marital status might have a minor influence, it is not as significant as education and occupation.\n",
      "\n",
      "4. **Age May Not Be a Significant Factor**:\n",
      "    - One of the positive counterfactuals is for an individual aged 61, indicating that age alone is not a decisive factor if other conditions (like education and occupation) are favorable.\n",
      "\n",
      "### Summary of Rules:\n",
      "1. Higher education (Masters, Prof-school, Bachelors) leads to higher income.\n",
      "2. Professional and White-Collar occupations lead to higher income.\n",
      "3. Marital status might have a minor influence but is not as significant as education and occupation.\n",
      "4. Age is not a decisive factor if education and occupation conditions are favorable.\n",
      "\n",
      "By focusing on improving educational qualifications and targeting occupations that are associated with higher income, individuals can potentially increase their chances of earning more than 50k a year.\n",
      "Results:\n",
      "Number of counterfactuals following Rule 1 (Higher education leads to higher income): 5\n",
      "Number of counterfactuals following Rule 2 (Professional and White-Collar occupations lead to higher income): 2\n",
      "Number of counterfactuals following Rule 3 (Marital status might have a minor influence but is not as significant): 5\n",
      "\n",
      "Explanation:\n",
      "Based on the analysis of your current situation and the comparison with others who have achieved higher incomes, here are some clear steps you can take to improve your chances of earning more than $50k a year:\n",
      "\n",
      "### Key Factors to Focus On:\n",
      "\n",
      "1. **Pursue Higher Education:**\n",
      "   - The most significant factor influencing higher income is education. Individuals with higher education degrees, such as Masters, Professional school, or Bachelors, are more likely to earn more than $50k a year.\n",
      "   - **Action Plan:** Consider investing in further education. Enrolling in and completing an advanced degree could significantly enhance your earning potential.\n",
      "\n",
      "2. **Transition to a Higher-Income Occupation:**\n",
      "   - Certain occupations, specifically those in Professional and White-Collar roles, are associated with higher incomes.\n",
      "   - **Action Plan:** If possible, look for opportunities to transition into a Professional or White-Collar occupation. This might involve gaining new skills or seeking roles that align with these job categories.\n",
      "\n",
      "3. **Marital Status:**\n",
      "   - While marital status can have a minor influence, it is not as critical as education and occupation. However, being aware of how life changes can impact your financial standing is useful.\n",
      "   - **Action Plan:** Focus on education and occupation changes primarily, as these have the most substantial impact.\n",
      "\n",
      "### Summary:\n",
      "- **Education:** Invest in higher education degrees (Masters, Professional school, or Bachelors).\n",
      "- **Occupation:** Aim for Professional or White-Collar job roles.\n",
      "- **Marital Status:** Be aware but do not prioritize it over education and occupation changes.\n",
      "\n",
      "By strategically focusing on improving your educational qualifications and targeting occupations that are known to lead to higher incomes, you can significantly improve your chances of moving to a higher income class. Remember, the more you invest in your education and career path, the better your prospects for achieving a higher income.\n",
      "\n",
      "### Next Steps:\n",
      "1. Explore educational programs that align with your interests and career goals.\n",
      "2. Identify and apply for job opportunities in Professional or White-Collar fields.\n",
      "3. Develop new skills and network within industries that offer higher income potentials.\n",
      "\n",
      "By taking these steps, you can work towards achieving a higher income and improving your overall economic standing.\n",
      "\n",
      "System3:\n",
      "Rules:\n",
      "Based on the provided data, the negative outcome case and the positive counterfactual cases present differences in several features that could be pivotal in the income prediction model. Here are the most important observed rules derived from the counterfactuals:\n",
      "\n",
      "1. **Education Level**: Higher education levels (such as Bachelors or Doctorate) are associated with a higher probability of earning more than $50k a year.\n",
      "   - In the negative outcome, the individual has only a \"School\" level of education.\n",
      "   - In positive outcomes, individuals have higher education levels, such as \"Bachelors\" or \"Doctorate\".\n",
      "\n",
      "2. **Marital Status**: Marital status can influence income predictions.\n",
      "   - The negative outcome case is \"Married\".\n",
      "   - Positive outcomes show a mix of \"Married\" and \"Divorced\". The presence of \"Divorced\" in one instance suggests that marital status changes might also play a role, although this is less consistent.\n",
      "\n",
      "3. **Occupation Type**: The type of occupation significantly impacts income.\n",
      "   - The negative outcome has the occupation \"Blue-Collar\".\n",
      "   - Positive outcomes include both \"Blue-Collar\" and \"Professional\". The presence of \"Professional\" in one instance suggests that more skilled or higher-status jobs are linked to higher income.\n",
      "\n",
      "4. **Hours Per Week**: The number of hours worked per week is a critical factor.\n",
      "   - The negative outcome case shows 30 hours per week.\n",
      "   - Positive outcomes range from 30 to 77 hours per week. Notably, even a slight increase to 33 hours per week in one case resulted in a positive outcome, suggesting that working more hours generally correlates with higher income.\n",
      "\n",
      "### Extracted Rules\n",
      "\n",
      "1. **Education Level Rule**:\n",
      "   - **If** Education level is \"Bachelors\" or higher\n",
      "   - **Then** Higher probability of earning more than $50k a year\n",
      "\n",
      "2. **Occupation Rule**:\n",
      "   - **If** Occupation is \"Professional\" or higher-status job\n",
      "   - **Then** Higher probability of earning more than $50k a year\n",
      "\n",
      "3. **Hours Per Week Rule**:\n",
      "   - **If** Hours per week > 30\n",
      "   - **Then** Higher probability of earning more than $50k a year\n",
      "\n",
      "4. **Combination Rule**:\n",
      "   - **If** Education level is \"Bachelors\" or higher **AND** Hours per week > 30\n",
      "   - **Then** Higher probability of earning more than $50k a year\n",
      "\n",
      "These rules provide a comprehensive understanding of the factors contributing to the positive income prediction and can help in guiding individuals towards achieving higher income levels based on the observed patterns in the data.\n",
      "Results:\n",
      "Number of counterfactuals consistent with Education Level Rule: 4\n",
      "Number of counterfactuals consistent with Occupation Rule: 2\n",
      "Number of counterfactuals consistent with Hours Per Week Rule: 2\n",
      "Number of counterfactuals consistent with Combination Rule: 2\n",
      "\n",
      "Explanation:\n",
      "### Explanation\n",
      "\n",
      "Based on the analysis of the data and the rules derived from it, here are some actionable steps you can take to improve your chances of earning more than $50k a year:\n",
      "\n",
      "#### 1. **Education Level**\n",
      "   - **Current Situation**: You currently have a \"School\" level of education.\n",
      "   - **Recommendation**: Consider pursuing further education. Achieving a \"Bachelors\" degree or higher (such as a Doctorate) is strongly associated with a higher income. This was the most consistent factor among the positive cases, with 4 out of 4 counterfactuals following this rule.\n",
      "   - **Action**: Look into educational programs and degrees that align with your career goals. Online courses, part-time studies, or even evening classes can be a flexible path to achieving higher education.\n",
      "\n",
      "#### 2. **Occupation**\n",
      "   - **Current Situation**: Your current occupation is \"Blue-Collar\".\n",
      "   - **Recommendation**: Transitioning to a \"Professional\" occupation or a higher-status job can significantly increase your earning potential. Although this rule was less consistent, it still appeared in 2 out of 4 positive counterfactuals.\n",
      "   - **Action**: Explore opportunities for career advancement within your current field or consider retraining for a new profession. Networking, gaining new skills, and seeking promotions can be steps towards a more professional role.\n",
      "\n",
      "#### 3. **Hours Per Week**\n",
      "   - **Current Situation**: You work 30 hours per week.\n",
      "   - **Recommendation**: Increasing your work hours can positively impact your income. This was another consistent factor, with 2 out of 4 positive cases indicating that working more than 30 hours per week is beneficial.\n",
      "   - **Action**: If feasible, try to increase your working hours. This could mean negotiating for more hours at your current job, taking on additional part-time work, or seeking overtime opportunities.\n",
      "\n",
      "#### 4. **Combination of Education and Work Hours**\n",
      "   - **Current Situation**: You have a \"School\" level of education and work 30 hours per week.\n",
      "   - **Recommendation**: Combining higher education with increased work hours offers the best chance of moving into a higher income bracket. This combination rule was supported by 2 out of 4 counterfactuals.\n",
      "   - **Action**: Aim to achieve both higher education and more working hours. This dual approach will maximize your potential for earning more than $50k a year.\n",
      "\n",
      "### Summary\n",
      "\n",
      "To improve your chances of earning more than $50k a year, focus on:\n",
      "\n",
      "1. **Pursuing higher education** (Bachelors or higher)\n",
      "2. **Transitioning to a professional or higher-status job**\n",
      "3. **Increasing your work hours** (more than 30 hours per week)\n",
      "4. **Combining higher education with increased work hours**\n",
      "\n",
      "By taking these steps, you can align more closely with the factors that have been shown to contribute to higher income levels in the data analysis.\n"
     ]
    }
   ],
   "source": [
    "print(out)"
   ]
  },
  {
   "cell_type": "markdown",
   "metadata": {},
   "source": [
    "Using all this information, the LLM generates an explanation."
   ]
  },
  {
   "cell_type": "code",
   "execution_count": 5,
   "metadata": {},
   "outputs": [
    {
     "name": "stdout",
     "output_type": "stream",
     "text": [
      "Sure, here's a clear and straightforward explanation to help you understand what steps you can take to improve your chances of earning more than $50,000 a year.\n",
      "\n",
      "---\n",
      "\n",
      "### Key Steps to Improve Your Income\n",
      "\n",
      "Based on the analysis of your current situation and the comparison with others who earn more than $50,000 a year, here are some important steps you can take:\n",
      "\n",
      "#### 1. **Pursue Higher Education**\n",
      "   - **Why It's Important**: The most consistent and crucial factor in achieving a higher income is furthering your education. All the positive cases had individuals with higher education levels such as a Bachelor's, Master's, or Professional degree.\n",
      "   - **Action to Take**: Consider investing in further education. Enroll in and complete a Bachelor's, Master's, or Professional school program. This step alone can significantly increase your earning potential.\n",
      "\n",
      "#### 2. **Gain More Work Experience Over Time**\n",
      "   - **Why It's Important**: In some cases, individuals who were older and had more work experience also earned more. While age itself isn't something you can change, gaining valuable experience over time can be beneficial.\n",
      "   - **Action to Take**: Focus on gaining more experience in your current field. Seek promotions or higher-level positions as you gain more experience. \n",
      "\n",
      "#### 3. **Consider Changing Your Occupation**\n",
      "   - **Why It's Important**: Certain job roles, like Professional or White-Collar occupations, are associated with higher incomes compared to Blue-Collar jobs.\n",
      "   - **Action to Take**: If possible, consider transitioning to a different occupation that offers better financial prospects. This may require additional training or education, but it could be worth it in the long run.\n",
      "\n",
      "#### 4. **Increase Your Working Hours**\n",
      "   - **Why It's Important**: Working more hours per week is generally correlated with higher income.\n",
      "   - **Action to Take**: If feasible, try to increase your working hours. This could mean negotiating for more hours at your current job, taking on additional part-time work, or seeking overtime opportunities.\n",
      "\n",
      "### Summary and Call to Action\n",
      "\n",
      "To improve your chances of earning more than $50,000 a year, focus on the following steps:\n",
      "\n",
      "1. **Increase Your Education Level**: Aim to achieve at least a Bachelor's degree, as this has the highest impact on your earning potential.\n",
      "2. **Gain More Experience**: As you get older, focus on gaining valuable work experience and seeking higher-level positions.\n",
      "3. **Consider a Job Change**: Look for opportunities to shift into higher-paying occupations like Professional or White-Collar roles.\n",
      "4. **Work More Hours**: If possible, increase the number of hours you work each week.\n",
      "\n",
      "By taking these steps, you can significantly improve your chances of moving into a higher income bracket. Start by exploring educational programs, looking for career advancement opportunities, and finding ways to work more hours. Good luck on your journey to achieving a higher income!\n",
      "\n",
      "---\n",
      "\n",
      "By following these actionable steps, you can align more closely with the factors that have been shown to contribute to higher income levels.\n"
     ]
    }
   ],
   "source": [
    "print(explanation)"
   ]
  },
  {
   "cell_type": "markdown",
   "metadata": {},
   "source": [
    "Again, we follow the same process for the evaluation"
   ]
  },
  {
   "cell_type": "code",
   "execution_count": 6,
   "metadata": {},
   "outputs": [
    {
     "name": "stdout",
     "output_type": "stream",
     "text": [
      "import pandas as pd\n",
      "\n",
      "# Creating the DataFrame with an example that would be classified as the positive class\n",
      "df = pd.DataFrame({\n",
      "    'age': [45],\n",
      "    'workclass': ['Private'],\n",
      "    'education': ['Bachelors'],\n",
      "    'marital_status': ['Married'],\n",
      "    'occupation': ['Professional'],\n",
      "    'race': ['White'],\n",
      "    'gender': ['Male'],\n",
      "    'hours_per_week': [40],\n",
      "    'income': [1]  # This indicates the positive class (>50K)\n",
      "})\n",
      "\n",
      "# Save the DataFrame to a CSV file\n",
      "df.to_csv('temp_csv.csv', index=False)\n"
     ]
    }
   ],
   "source": [
    "print(code2)"
   ]
  },
  {
   "cell_type": "code",
   "execution_count": 7,
   "metadata": {},
   "outputs": [
    {
     "data": {
      "text/html": [
       "<div>\n",
       "<style scoped>\n",
       "    .dataframe tbody tr th:only-of-type {\n",
       "        vertical-align: middle;\n",
       "    }\n",
       "\n",
       "    .dataframe tbody tr th {\n",
       "        vertical-align: top;\n",
       "    }\n",
       "\n",
       "    .dataframe thead th {\n",
       "        text-align: right;\n",
       "    }\n",
       "</style>\n",
       "<table border=\"1\" class=\"dataframe\">\n",
       "  <thead>\n",
       "    <tr style=\"text-align: right;\">\n",
       "      <th></th>\n",
       "      <th>age</th>\n",
       "      <th>workclass</th>\n",
       "      <th>education</th>\n",
       "      <th>marital_status</th>\n",
       "      <th>occupation</th>\n",
       "      <th>race</th>\n",
       "      <th>gender</th>\n",
       "      <th>hours_per_week</th>\n",
       "    </tr>\n",
       "  </thead>\n",
       "  <tbody>\n",
       "    <tr>\n",
       "      <th>0</th>\n",
       "      <td>45</td>\n",
       "      <td>Private</td>\n",
       "      <td>Bachelors</td>\n",
       "      <td>Married</td>\n",
       "      <td>Professional</td>\n",
       "      <td>White</td>\n",
       "      <td>Male</td>\n",
       "      <td>40</td>\n",
       "    </tr>\n",
       "  </tbody>\n",
       "</table>\n",
       "</div>"
      ],
      "text/plain": [
       "   age workclass  education marital_status    occupation   race gender  \\\n",
       "0   45   Private  Bachelors        Married  Professional  White   Male   \n",
       "\n",
       "   hours_per_week  \n",
       "0              40  "
      ]
     },
     "execution_count": 7,
     "metadata": {},
     "output_type": "execute_result"
    }
   ],
   "source": [
    "final_cf"
   ]
  },
  {
   "cell_type": "code",
   "execution_count": 8,
   "metadata": {},
   "outputs": [
    {
     "name": "stdout",
     "output_type": "stream",
     "text": [
      "import pandas as pd\n",
      "\n",
      "# Load the example from temp_csv\n",
      "df = pd.read_csv('temp_csv.csv')\n",
      "\n",
      "# Define the rules\n",
      "rules = [\n",
      "    {\n",
      "        'Rule': 'Higher Education Level',\n",
      "        'Importance': 5,\n",
      "        'Check': lambda x: x['education'] in ['Bachelors', 'Masters', 'Prof-school', 'Doctorate']\n",
      "    },\n",
      "    {\n",
      "        'Rule': 'Older Age',\n",
      "        'Importance': 2,\n",
      "        'Check': lambda x: x['age'] >= 52\n",
      "    },\n",
      "    {\n",
      "        'Rule': 'Marital Status Changed to Separated',\n",
      "        'Importance': 1,\n",
      "        'Check': lambda x: x['marital_status'] == 'Separated'\n",
      "    },\n",
      "    {\n",
      "        'Rule': 'Occupation Shift to Service',\n",
      "        'Importance': 1,\n",
      "        'Check': lambda x: x['occupation'] == 'Service'\n",
      "    },\n",
      "    {\n",
      "        'Rule': 'Race Other than White',\n",
      "        'Importance': 1,\n",
      "        'Check': lambda x: x['race'] == 'Other'\n",
      "    },\n",
      "    {\n",
      "        'Rule': 'Professional and White-Collar occupations lead to higher income',\n",
      "        'Importance': 2,\n",
      "        'Check': lambda x: x['occupation'] in ['Professional', 'White-Collar']\n",
      "    },\n",
      "    {\n",
      "        'Rule': 'Marital status might have a minor influence but is not as significant',\n",
      "        'Importance': 5,\n",
      "        'Check': lambda x: x['marital_status'] in ['Divorced', 'Separated', 'Single', 'Widowed']\n",
      "    },\n",
      "    {\n",
      "        'Rule': 'Hours Per Week > 30',\n",
      "        'Importance': 2,\n",
      "        'Check': lambda x: x['hours_per_week'] > 30\n",
      "    },\n",
      "    {\n",
      "        'Rule': 'Combination Rule (Bachelors or higher AND Hours Per Week > 30)',\n",
      "        'Importance': 2,\n",
      "        'Check': lambda x: x['education'] in ['Bachelors', 'Masters', 'Prof-school', 'Doctorate'] and x['hours_per_week'] > 30\n",
      "    }\n",
      "]\n",
      "\n",
      "# Evaluate the rules against the example\n",
      "results = []\n",
      "for rule in rules:\n",
      "    result = {\n",
      "        'Rule': rule['Rule'],\n",
      "        'Importance': rule['Importance'],\n",
      "        'In explanation': 1 if rule['Check'](df.iloc[0]) else 0\n",
      "    }\n",
      "    results.append(result)\n",
      "\n",
      "# Convert results to DataFrame\n",
      "df_final = pd.DataFrame(results)\n",
      "\n",
      "# Save the results to a CSV file\n",
      "df_final.to_csv('evaluation.csv', index=False)\n"
     ]
    }
   ],
   "source": [
    "print(code3)"
   ]
  },
  {
   "cell_type": "code",
   "execution_count": 9,
   "metadata": {},
   "outputs": [
    {
     "data": {
      "text/html": [
       "<div>\n",
       "<style scoped>\n",
       "    .dataframe tbody tr th:only-of-type {\n",
       "        vertical-align: middle;\n",
       "    }\n",
       "\n",
       "    .dataframe tbody tr th {\n",
       "        vertical-align: top;\n",
       "    }\n",
       "\n",
       "    .dataframe thead th {\n",
       "        text-align: right;\n",
       "    }\n",
       "</style>\n",
       "<table border=\"1\" class=\"dataframe\">\n",
       "  <thead>\n",
       "    <tr style=\"text-align: right;\">\n",
       "      <th></th>\n",
       "      <th>Rule</th>\n",
       "      <th>Importance</th>\n",
       "      <th>In explanation</th>\n",
       "    </tr>\n",
       "  </thead>\n",
       "  <tbody>\n",
       "    <tr>\n",
       "      <th>0</th>\n",
       "      <td>Higher Education Level</td>\n",
       "      <td>5</td>\n",
       "      <td>1</td>\n",
       "    </tr>\n",
       "    <tr>\n",
       "      <th>1</th>\n",
       "      <td>Older Age</td>\n",
       "      <td>2</td>\n",
       "      <td>0</td>\n",
       "    </tr>\n",
       "    <tr>\n",
       "      <th>2</th>\n",
       "      <td>Marital Status Changed to Separated</td>\n",
       "      <td>1</td>\n",
       "      <td>0</td>\n",
       "    </tr>\n",
       "    <tr>\n",
       "      <th>3</th>\n",
       "      <td>Occupation Shift to Service</td>\n",
       "      <td>1</td>\n",
       "      <td>0</td>\n",
       "    </tr>\n",
       "    <tr>\n",
       "      <th>4</th>\n",
       "      <td>Race Other than White</td>\n",
       "      <td>1</td>\n",
       "      <td>0</td>\n",
       "    </tr>\n",
       "    <tr>\n",
       "      <th>5</th>\n",
       "      <td>Professional and White-Collar occupations lead...</td>\n",
       "      <td>2</td>\n",
       "      <td>1</td>\n",
       "    </tr>\n",
       "    <tr>\n",
       "      <th>6</th>\n",
       "      <td>Marital status might have a minor influence bu...</td>\n",
       "      <td>5</td>\n",
       "      <td>0</td>\n",
       "    </tr>\n",
       "    <tr>\n",
       "      <th>7</th>\n",
       "      <td>Hours Per Week &gt; 30</td>\n",
       "      <td>2</td>\n",
       "      <td>1</td>\n",
       "    </tr>\n",
       "    <tr>\n",
       "      <th>8</th>\n",
       "      <td>Combination Rule (Bachelors or higher AND Hour...</td>\n",
       "      <td>2</td>\n",
       "      <td>1</td>\n",
       "    </tr>\n",
       "  </tbody>\n",
       "</table>\n",
       "</div>"
      ],
      "text/plain": [
       "                                                Rule  Importance  \\\n",
       "0                             Higher Education Level           5   \n",
       "1                                          Older Age           2   \n",
       "2                Marital Status Changed to Separated           1   \n",
       "3                        Occupation Shift to Service           1   \n",
       "4                              Race Other than White           1   \n",
       "5  Professional and White-Collar occupations lead...           2   \n",
       "6  Marital status might have a minor influence bu...           5   \n",
       "7                                Hours Per Week > 30           2   \n",
       "8  Combination Rule (Bachelors or higher AND Hour...           2   \n",
       "\n",
       "   In explanation  \n",
       "0               1  \n",
       "1               0  \n",
       "2               0  \n",
       "3               0  \n",
       "4               0  \n",
       "5               1  \n",
       "6               0  \n",
       "7               1  \n",
       "8               1  "
      ]
     },
     "execution_count": 9,
     "metadata": {},
     "output_type": "execute_result"
    }
   ],
   "source": [
    "final_df"
   ]
  },
  {
   "cell_type": "code",
   "execution_count": null,
   "metadata": {},
   "outputs": [
    {
     "name": "stdout",
     "output_type": "stream",
     "text": [
      "Prediction of the generated example:  1\n",
      "Number of rules generated:  14\n",
      "Number of rules followed:  4\n",
      "1st rule followed  0\n",
      "2nd rule followed  0\n",
      "3rd rule followed  0\n",
      "Example exists in data:  False\n"
     ]
    }
   ],
   "source": [
    "print('Prediction of the generated example: ', prediction)\n",
    "print('Number of rules generated: ', n_rules)\n",
    "print('Number of rules followed: ', rules_followed)\n",
    "print('1st rule followed ', first_rule)\n",
    "print('2nd rule followed ', second_rule)\n",
    "print('3rd rule followed ', third_rule)\n",
    "print('Example exists in data: ', in_data)"
   ]
  },
  {
   "cell_type": "markdown",
   "metadata": {},
   "source": [
    "As we can see, the rule set is much bigger now, so different causes can be selected"
   ]
  },
  {
   "cell_type": "code",
   "execution_count": 10,
   "metadata": {},
   "outputs": [
    {
     "data": {
      "text/html": [
       "<div>\n",
       "<style scoped>\n",
       "    .dataframe tbody tr th:only-of-type {\n",
       "        vertical-align: middle;\n",
       "    }\n",
       "\n",
       "    .dataframe tbody tr th {\n",
       "        vertical-align: top;\n",
       "    }\n",
       "\n",
       "    .dataframe thead th {\n",
       "        text-align: right;\n",
       "    }\n",
       "</style>\n",
       "<table border=\"1\" class=\"dataframe\">\n",
       "  <thead>\n",
       "    <tr style=\"text-align: right;\">\n",
       "      <th></th>\n",
       "      <th>age</th>\n",
       "      <th>workclass</th>\n",
       "      <th>education</th>\n",
       "      <th>marital_status</th>\n",
       "      <th>occupation</th>\n",
       "      <th>race</th>\n",
       "      <th>gender</th>\n",
       "      <th>hours_per_week</th>\n",
       "    </tr>\n",
       "  </thead>\n",
       "  <tbody>\n",
       "    <tr>\n",
       "      <th>2</th>\n",
       "      <td>41</td>\n",
       "      <td>Private</td>\n",
       "      <td>School</td>\n",
       "      <td>Married</td>\n",
       "      <td>Blue-Collar</td>\n",
       "      <td>White</td>\n",
       "      <td>Male</td>\n",
       "      <td>30</td>\n",
       "    </tr>\n",
       "  </tbody>\n",
       "</table>\n",
       "</div>"
      ],
      "text/plain": [
       "   age workclass education marital_status   occupation   race gender  \\\n",
       "2   41   Private    School        Married  Blue-Collar  White   Male   \n",
       "\n",
       "   hours_per_week  \n",
       "2              30  "
      ]
     },
     "execution_count": 10,
     "metadata": {},
     "output_type": "execute_result"
    }
   ],
   "source": [
    "test_df.iloc[[2]]"
   ]
  },
  {
   "cell_type": "code",
   "execution_count": null,
   "metadata": {},
   "outputs": [],
   "source": []
  }
 ],
 "metadata": {
  "kernelspec": {
   "display_name": "LLMproj",
   "language": "python",
   "name": "python3"
  },
  "language_info": {
   "codemirror_mode": {
    "name": "ipython",
    "version": 3
   },
   "file_extension": ".py",
   "mimetype": "text/x-python",
   "name": "python",
   "nbconvert_exporter": "python",
   "pygments_lexer": "ipython3",
   "version": "3.10.14"
  }
 },
 "nbformat": 4,
 "nbformat_minor": 2
}
